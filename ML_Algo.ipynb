{
 "cells": [
  {
   "cell_type": "code",
   "execution_count": 1,
   "id": "c0a7d28f-c15e-4f62-959d-c893b9231f3a",
   "metadata": {},
   "outputs": [],
   "source": [
    "import pandas as pd\n",
    "import numpy as np\n",
    "df = pd.read_csv(\"EmotionCSV.csv\")\n",
    "#df2 = pd.read_csv(\"./Training_Dataframes/esken30ktweetswithemotions.csv\")"
   ]
  },
  {
   "cell_type": "code",
   "execution_count": 2,
   "id": "7e55b663-8741-4886-8b77-e53efbdc949f",
   "metadata": {},
   "outputs": [],
   "source": [
    "#print(type(df))\n",
    "#print(df.head())\n",
    "df.drop([\"Unnamed: 0\"],axis = 1, inplace = True)\n",
    "#print(\"----\")"
   ]
  },
  {
   "cell_type": "code",
   "execution_count": 3,
   "id": "34847d55-9b27-4f59-993c-87cbbb94e9ba",
   "metadata": {},
   "outputs": [
    {
     "name": "stdout",
     "output_type": "stream",
     "text": [
      "Index(['tweetidInput', 'datetimeInput', 'dateInput', 'timeInput', 'userInput',\n",
      "       'textInput', 'languageInput', 'editedInput', 'textforttbInput',\n",
      "       'lematizedInput', 'AnalysisInput', 'word_countInput', 'WutInput',\n",
      "       'VorfreudeInput', 'EkelInput', 'FurchtInput', 'FreudeInput',\n",
      "       'TraurigkeitInput', 'UeberraschungInput', 'VertrauenInput',\n",
      "       'neg_emotionsInput', 'pos_emotionsInput', 'total_neg_emotionsInput',\n",
      "       'total_pos_emotionsInput'],\n",
      "      dtype='object')\n"
     ]
    }
   ],
   "source": [
    "#print(df.head())\n",
    "#print(df.keys())\n",
    "keyString = df.keys()\n",
    "keyString += \"Input\"\n",
    "df.columns = keyString\n",
    "#print(df.keys())\n",
    "print(keyString[0:24])"
   ]
  },
  {
   "cell_type": "code",
   "execution_count": 4,
   "id": "528d2c40-c348-467b-8c40-204f7a8c5128",
   "metadata": {},
   "outputs": [],
   "source": [
    "listOfTweets = df[\"editedInput\"].tolist()\n",
    "docs = np.array(listOfTweets)"
   ]
  },
  {
   "cell_type": "code",
   "execution_count": 5,
   "id": "962b3619-d633-43bf-8b99-efcbd93829df",
   "metadata": {},
   "outputs": [
    {
     "ename": "AttributeError",
     "evalue": "'CountVectorizer' object has no attribute 'get_feature_names_out'",
     "output_type": "error",
     "traceback": [
      "\u001b[0;31m---------------------------------------------------------------------------\u001b[0m",
      "\u001b[0;31mAttributeError\u001b[0m                            Traceback (most recent call last)",
      "\u001b[0;32m/var/folders/yl/dt_q929j1hg64nfh_lmhldhw0000gn/T/ipykernel_13330/1087342819.py\u001b[0m in \u001b[0;36m<module>\u001b[0;34m\u001b[0m\n\u001b[1;32m      8\u001b[0m \u001b[0moneHotDf\u001b[0m \u001b[0;34m=\u001b[0m \u001b[0mpd\u001b[0m\u001b[0;34m.\u001b[0m\u001b[0mDataFrame\u001b[0m\u001b[0;34m(\u001b[0m\u001b[0moneHotArray\u001b[0m\u001b[0;34m)\u001b[0m\u001b[0;34m\u001b[0m\u001b[0;34m\u001b[0m\u001b[0m\n\u001b[1;32m      9\u001b[0m \u001b[0;31m#Naming the Columns accordingly for humans to read\u001b[0m\u001b[0;34m\u001b[0m\u001b[0;34m\u001b[0m\u001b[0m\n\u001b[0;32m---> 10\u001b[0;31m \u001b[0moneHotDf\u001b[0m\u001b[0;34m.\u001b[0m\u001b[0mcolumns\u001b[0m \u001b[0;34m=\u001b[0m \u001b[0mcv\u001b[0m\u001b[0;34m.\u001b[0m\u001b[0mget_feature_names_out\u001b[0m\u001b[0;34m(\u001b[0m\u001b[0;34m)\u001b[0m\u001b[0;34m\u001b[0m\u001b[0;34m\u001b[0m\u001b[0m\n\u001b[0m\u001b[1;32m     11\u001b[0m \u001b[0;31m#print(oneHotDf.head())\u001b[0m\u001b[0;34m\u001b[0m\u001b[0;34m\u001b[0m\u001b[0m\n\u001b[1;32m     12\u001b[0m \u001b[0;31m#print(oneHotDf.info())\u001b[0m\u001b[0;34m\u001b[0m\u001b[0;34m\u001b[0m\u001b[0m\n",
      "\u001b[0;31mAttributeError\u001b[0m: 'CountVectorizer' object has no attribute 'get_feature_names_out'"
     ]
    }
   ],
   "source": [
    "# https://medium.com/swlh/tweet-sentiment-analysis-using-python-for-complete-beginners-4aeb4456040\n",
    "# Turning all Tweets into Vectors for later Machine learning\n",
    "from sklearn.feature_extraction.text import CountVectorizer\n",
    "cv=CountVectorizer(binary = True)\n",
    "oneHotCv = cv.fit_transform(docs)\n",
    "oneHotArray = oneHotCv.toarray()\n",
    "oneHotArray.shape\n",
    "oneHotDf = pd.DataFrame(oneHotArray)\n",
    "#Naming the Columns accordingly for humans to read\n",
    "oneHotDf.columns = cv.get_feature_names_out()\n",
    "#print(oneHotDf.head())\n",
    "#print(oneHotDf.info())\n",
    "longDf = pd.concat([df,oneHotDf], axis = 1)\n",
    "#dir(CountVectorizer)\n",
    "print(longDf.describe())\n",
    "longDf.head()"
   ]
  },
  {
   "cell_type": "code",
   "execution_count": null,
   "id": "0d65065d-bbb2-4ca9-b3d3-e6a13dba3bb9",
   "metadata": {},
   "outputs": [],
   "source": [
    "#proving, that all words in the tweet are marked appropriatly\n",
    "print(longDf.iloc[0][\"editedInput\"])\n",
    "print(longDf.iloc[0][longDf.iloc[0][\"editedInput\"].split()])"
   ]
  },
  {
   "cell_type": "code",
   "execution_count": null,
   "id": "7588806a-1f6d-456a-bc65-ca4cf2f3bdf4",
   "metadata": {},
   "outputs": [],
   "source": [
    "print(longDf.keys()[:27])\n",
    "print(longDf.keys()[:24])\n",
    "#Shows that keys[0:24] are tweet data, thats not part of the NLP"
   ]
  },
  {
   "cell_type": "code",
   "execution_count": null,
   "id": "7c2c66b7-8602-44b4-b666-a22af7e9c374",
   "metadata": {},
   "outputs": [],
   "source": [
    "#This is already part of old code\n",
    "import re\n",
    "\n",
    "def clean(text):\n",
    "    text = re.sub(r'@[A-Za-z0-9]+\\s?', '', text) #Removed Mentions\n",
    "    text = re.sub(r'#', '', text) #Removed #\n",
    "    text = re.sub(r'(.)1+', r'1', text) #cleaned single letters\n",
    "    text = re.sub('((www.[^s]+)|(https?://[^s]+))','',text) #Removes links\n",
    "    text = re.sub('@','',text) #Remove @\n",
    "    text = re.sub('-','',text) #Remove -\n",
    "    text = re.sub('ä','ae',text) #Remove ä\n",
    "    text = re.sub('Ä','Ae',text) #Remove Ä\n",
    "    text = re.sub('ö','oe',text) #Remove Ä\n",
    "    text = re.sub('Ö','Oe',text) #Remove Ä\n",
    "    text = re.sub('ü','ue',text) #Remove Ä\n",
    "    text = re.sub('Ü','Ue',text) #Remove Ä\n",
    "    return text\n",
    "\n",
    "import nltk\n",
    "from nltk.stem import PorterStemmer\n",
    "porter = PorterStemmer()\n",
    "st = nltk.PorterStemmer()\n",
    "def stemming_on_text(data):\n",
    "    text = [st.stem(word) for word in data]\n",
    "    return data"
   ]
  },
  {
   "cell_type": "code",
   "execution_count": null,
   "id": "8493cfda-0051-4df2-8cdc-c037ab39bad7",
   "metadata": {},
   "outputs": [],
   "source": [
    "def sentence_toVec(sentence,goalDF):\n",
    "    #Preparing Input text\n",
    "    cleanSentence = sentence.lower()\n",
    "    cleanSentence = clean(cleanSentence)\n",
    "    cleansentene = stemming_on_text(cleanSentence)\n",
    "    \n",
    "    #Preparing EmptyDF\n",
    "    emptyList = [0]*len(goalDF.keys())\n",
    "    #print(emptyList)\n",
    "    #print(\"Len EmptyList: \" + str(len(emptyList)))\n",
    "    #emptyDF = goalDF.iloc[0:0].copy()\n",
    "    #emptyDF = emptyDF.append(emptyList)\n",
    "    #emptyDF = emptyDF.append(pd.DataFrame(emptyList, columns = goalDF.keys()), ignore_index = True)\n",
    "    emptyDF = pd.DataFrame(columns = goalDF.keys())\n",
    "    #emptyDF.append(pd.Series(), ignore_index = True)\n",
    "    emptyDF.loc[len(emptyDF)] = emptyList\n",
    "    #print(emptyDF)\n",
    "    #emptyDF = pd.DataFrame(emptyList, columns = goalDF.keys())\n",
    "    #print(\"LenEmpty DF: \" + str(len(emptyDF)) + \" Len Keys Empty DF: \" + str(len(emptyDF.keys())))\n",
    "    \n",
    "    emptyDF[\"textInput\"][0] = sentence\n",
    "    emptyDF[\"editedInput\"][0] = cleanSentence\n",
    "    #keys = list(emptyDF.keys()[0:10])\n",
    "    #print(\"---\")\n",
    "    #print(\"New LenEmpty DF: \" + str(len(emptyDF)) + \" Len Keys Empty DF: \" + str(len(emptyDF.keys())))\n",
    "    #print(emptyDF[\"textInput\"].tolist())\n",
    "    listOfWords = cleanSentence.split()\n",
    "    for word in listOfWords:\n",
    "        if word in emptyDF.columns:\n",
    "            emptyDF[word][0] = 1\n",
    "    emptyDF.fillna(0)\n",
    "    return emptyDF"
   ]
  },
  {
   "cell_type": "code",
   "execution_count": null,
   "id": "cf21197d-dffb-4e86-8c7c-103d2f51c079",
   "metadata": {},
   "outputs": [],
   "source": [
    "myPrivateSentence = \"Wir sind falsch\"    \n",
    "print(longDf.keys()[24])"
   ]
  },
  {
   "cell_type": "code",
   "execution_count": null,
   "id": "9570038d-f028-4283-805b-1dd96c5c2d4e",
   "metadata": {},
   "outputs": [],
   "source": [
    "from sklearn.tree import DecisionTreeRegressor\n",
    "from sklearn.model_selection import train_test_split\n",
    "from sklearn.metrics import mean_absolute_error\n",
    "#print(list((keys)))\n",
    "def trainEmotionModels(dataFrame):\n",
    "    tweet_features = longDf.keys()[24:]\n",
    "    X_trainingData = longDf[tweet_features]\n",
    "    keys = list(longDf.keys()[12:20])\n",
    "    listOfModels = []\n",
    "    iterator = 0\n",
    "    for emotion in longDf[keys]:\n",
    "        print(emotion[:-5] + \": \")\n",
    "        #print(longDf[emotion].head())\n",
    "        y_emotion = longDf[emotion]\n",
    "        train_X, val_X, train_y, val_y = train_test_split(X_trainingData, y_emotion,test_size = 0.33, random_state = 1,shuffle=True)\n",
    "        emotion_Model = DecisionTreeRegressor(random_state = 1)\n",
    "        emotion_Model.fit(X_trainingData,y_emotion)\n",
    "        val_predictions = emotion_Model.predict(val_X)\n",
    "        listOfModels.append(emotion_Model)\n",
    "        #print(emotion_Model.predict(val_X.head()))\n",
    "        \n",
    "        print(\"Mean Absolute error for {}: \".format(emotion[:-5]) + str(round(mean_absolute_error(val_y,val_predictions)*100,2))+\"%\\n\")\n",
    "        #print(\"type(train_X): \" + str(type(train_X)))\n",
    "        #print(\"type(dfSentence): \" + str(type(dfOfSentence)))\n",
    "        #print(\"Predicition for for train_X.head() for emotion {}: \".format(emotion[:-5])+ str(emotion_Model.predict(train_X.head())))\n",
    "        #print(\"Predicition for '{}' for emotion {}: \".format(myPrivateSentence,emotion[:-5])+ str(emotion_Model.predict(dfOfSentence[tweet_features])))\n",
    "        #y_emotionGoal = longDf[emotion]\n",
    "        \n",
    "        \n",
    "    dicOfModels = {\"Wut-Model\":listOfModels[0],\"Vorfreude-Model\":listOfModels[1],\"Ekel-Model\":listOfModels[2],\"Furcht-Model\":listOfModels[3],\"Freude-Model\":listOfModels[4],\"Traurigkeit-Model\":listOfModels[5], \"Ueberraschungs-Model\":listOfModels[6],\"Vetrauen-Model\":listOfModels[7]}\n",
    "    return dicOfModels"
   ]
  },
  {
   "cell_type": "code",
   "execution_count": null,
   "id": "ccc99472-e31b-43a6-b51e-3841e71ede9b",
   "metadata": {},
   "outputs": [],
   "source": [
    "def getAttributesOfTweet(tweetNumber, df):\n",
    "    keys = list(df.keys()[12:20])\n",
    "    print(\"---\\nTweet \\n--- \\n{}\\n--- \\nhas these Emotions according to DataInput Tweet:\")\n",
    "    for emotion in df[keys]:\n",
    "        print(str(emotion[:-5]) + \"-Value: \" +str(df[emotion][tweetNumber]))"
   ]
  },
  {
   "cell_type": "code",
   "execution_count": null,
   "id": "2ee4c987-f9f8-43b9-a81b-978d272a1022",
   "metadata": {},
   "outputs": [],
   "source": [
    "def interpretOwnSentence(sentence, dicOfModels, df):\n",
    "    if(type(sentence) != str):\n",
    "        print(\"Sentence-Parameter is not a String\")\n",
    "        return\n",
    "    if(type(dicOfModels) != dict):\n",
    "        print(\"dicOfModels-Parameter is not a dictionary\")\n",
    "        return\n",
    "    if(len(dicOfModels)!=8):\n",
    "        print(\"dicOfModels Length is not 8\")\n",
    "        return\n",
    "        \n",
    "    #Transforming Sentence into Vector\n",
    "    dfOfSentence = sentence_toVec(myPrivateSentence, df)\n",
    "    #print(\"----\\nThis is the shape of the df: \\n\" + str(dfOfSentence) + \"\\n----\")\n",
    "    listOfIndex = dfOfSentence.columns[(dfOfSentence == 1).all()].tolist()\n",
    "    listOfIndex.extend([\"textInput\",\"editedInput\",\"WutInput\"])\n",
    "    #print(\"----\\nInput Sentence was transformed to this vector: \\n\" +str(dfOfSentence.head()))\n",
    "    \n",
    "    \n",
    "    keys = list(df.keys()[12:20])\n",
    "    #Applying different Models to sentence\n",
    "    keyOfFeatures = dfOfSentence.keys()[24:]\n",
    "    features = dfOfSentence[keyOfFeatures]\n",
    "    iterator = 0\n",
    "    for model in dicOfModels:\n",
    "        #print(str(model) + \" is the following type: \" + str(type(model)))\n",
    "        result = dicOfModels[model].predict(features)\n",
    "        #print(\"---\\nThis is the result of {}: \".format(str(model)) + str(result))\n",
    "        #print(\"result[0]: \" + str(result[0]))\n",
    "        print(\"before writing: \" + str(dfOfSentence[dfOfSentence.keys()[12+iterator]]))\n",
    "        dfOfSentence[12+iterator] = result[0]\n",
    "        print(\"---\\nThis is in the dfOfSentence: \" + str(dfOfSentence[12+iterator][0]))\n",
    "        iterator = iterator + 1\n",
    "    print(\"---\\nThis is what all the Attributes look like: \\n\" + str(dfOfSentence[dfOfSentence.keys()[12:20]]))\n",
    "    getAttributesOfTweet(0,dfOfSentence)"
   ]
  },
  {
   "cell_type": "code",
   "execution_count": null,
   "id": "50c4bde8-4767-4ffd-b183-306d2420608e",
   "metadata": {},
   "outputs": [],
   "source": [
    "giveMeMyModels = trainEmotionModels(longDf)"
   ]
  },
  {
   "cell_type": "code",
   "execution_count": null,
   "id": "6d13c536-c0a0-4b0d-90be-1e18b725d976",
   "metadata": {},
   "outputs": [],
   "source": [
    "interpretOwnSentence(\"Wir sind falsch\", giveMeMyModels, longDf)"
   ]
  },
  {
   "cell_type": "code",
   "execution_count": null,
   "id": "11a083f9-aaf7-467b-af1a-cc14872a8219",
   "metadata": {},
   "outputs": [],
   "source": []
  }
 ],
 "metadata": {
  "kernelspec": {
   "display_name": "Python 3 (ipykernel)",
   "language": "python",
   "name": "python3"
  },
  "language_info": {
   "codemirror_mode": {
    "name": "ipython",
    "version": 3
   },
   "file_extension": ".py",
   "mimetype": "text/x-python",
   "name": "python",
   "nbconvert_exporter": "python",
   "pygments_lexer": "ipython3",
   "version": "3.9.7"
  }
 },
 "nbformat": 4,
 "nbformat_minor": 5
}
