{
 "cells": [
  {
   "cell_type": "code",
   "execution_count": 1,
   "id": "c0a7d28f-c15e-4f62-959d-c893b9231f3a",
   "metadata": {},
   "outputs": [],
   "source": [
    "import pandas as pd\n",
    "import numpy as np\n",
    "df = pd.read_csv(\"EmotionCSV.csv\")"
   ]
  },
  {
   "cell_type": "code",
   "execution_count": 2,
   "id": "7e55b663-8741-4886-8b77-e53efbdc949f",
   "metadata": {},
   "outputs": [],
   "source": [
    "#print(type(df))\n",
    "#print(df.head())\n",
    "df.drop([\"Unnamed: 0\"],axis = 1, inplace = True)\n",
    "#print(\"----\")"
   ]
  },
  {
   "cell_type": "code",
   "execution_count": 3,
   "id": "34847d55-9b27-4f59-993c-87cbbb94e9ba",
   "metadata": {},
   "outputs": [
    {
     "name": "stdout",
     "output_type": "stream",
     "text": [
      "Index(['tweetid', 'datetime', 'date', 'time', 'user', 'text', 'language',\n",
      "       'edited', 'textforttb', 'lematized', 'Analysis', 'word_count', 'Wut',\n",
      "       'Vorfreude', 'Ekel', 'Furcht', 'Freude', 'Traurigkeit', 'Ueberraschung',\n",
      "       'Vertrauen', 'neg_emotions', 'pos_emotions', 'total_neg_emotions',\n",
      "       'total_pos_emotions'],\n",
      "      dtype='object')\n",
      "Index(['tweetidInput', 'datetimeInput', 'dateInput', 'timeInput', 'userInput',\n",
      "       'textInput', 'languageInput', 'editedInput', 'textforttbInput',\n",
      "       'lematizedInput', 'AnalysisInput', 'word_countInput', 'WutInput',\n",
      "       'VorfreudeInput', 'EkelInput', 'FurchtInput', 'FreudeInput',\n",
      "       'TraurigkeitInput', 'UeberraschungInput', 'VertrauenInput',\n",
      "       'neg_emotionsInput', 'pos_emotionsInput', 'total_neg_emotionsInput',\n",
      "       'total_pos_emotionsInput'],\n",
      "      dtype='object')\n"
     ]
    }
   ],
   "source": [
    "#print(df.head())\n",
    "print(df.keys())\n",
    "keyString = df.keys()\n",
    "keyString += \"Input\"\n",
    "    \n",
    "df.columns = keyString\n",
    "print(df.keys())"
   ]
  },
  {
   "cell_type": "code",
   "execution_count": 4,
   "id": "0adb650c-085c-4dd4-a3c5-45fd3c1ebb93",
   "metadata": {},
   "outputs": [
    {
     "data": {
      "text/plain": [
       "Index(['tweetidInput', 'datetimeInput', 'dateInput', 'timeInput', 'userInput',\n",
       "       'textInput', 'languageInput', 'editedInput', 'textforttbInput',\n",
       "       'lematizedInput', 'AnalysisInput', 'word_countInput', 'WutInput',\n",
       "       'VorfreudeInput', 'EkelInput', 'FurchtInput', 'FreudeInput',\n",
       "       'TraurigkeitInput', 'UeberraschungInput', 'VertrauenInput',\n",
       "       'neg_emotionsInput', 'pos_emotionsInput', 'total_neg_emotionsInput',\n",
       "       'total_pos_emotionsInput'],\n",
       "      dtype='object')"
      ]
     },
     "execution_count": 4,
     "metadata": {},
     "output_type": "execute_result"
    }
   ],
   "source": [
    "df.keys()"
   ]
  },
  {
   "cell_type": "code",
   "execution_count": 6,
   "id": "528d2c40-c348-467b-8c40-204f7a8c5128",
   "metadata": {},
   "outputs": [
    {
     "data": {
      "text/plain": [
       "'\\n#Getting amount of individual words\\nlongListofWords = \" \".join(docs).split()\\n#print(longListofWords[0])\\nunique = set(longListofWords)\\ncountOfUniqueWords = len(unique)\\nprint(countOfUniqueWords)'"
      ]
     },
     "execution_count": 6,
     "metadata": {},
     "output_type": "execute_result"
    }
   ],
   "source": [
    "listOfTweets = df[\"editedInput\"].tolist()\n",
    "docs = np.array(listOfTweets)\n",
    "\n",
    "\"\"\"\n",
    "#Getting amount of individual words\n",
    "longListofWords = \" \".join(docs).split()\n",
    "#print(longListofWords[0])\n",
    "unique = set(longListofWords)\n",
    "countOfUniqueWords = len(unique)\n",
    "print(countOfUniqueWords)\"\"\""
   ]
  },
  {
   "cell_type": "code",
   "execution_count": 7,
   "id": "962b3619-d633-43bf-8b99-efcbd93829df",
   "metadata": {},
   "outputs": [],
   "source": [
    "# https://medium.com/swlh/tweet-sentiment-analysis-using-python-for-complete-beginners-4aeb4456040\n",
    "from sklearn.feature_extraction.text import CountVectorizer\n",
    "#dir(CountVectorizer)"
   ]
  },
  {
   "cell_type": "code",
   "execution_count": 8,
   "id": "da3f24c1-64d0-4e14-a7a9-ad94b8f4086e",
   "metadata": {},
   "outputs": [
    {
     "data": {
      "text/plain": [
       "(4012, 12454)"
      ]
     },
     "execution_count": 8,
     "metadata": {},
     "output_type": "execute_result"
    }
   ],
   "source": [
    "cv=CountVectorizer(binary = True)\n",
    "#help(cv.fit_transform)\n",
    "oneHotCv = cv.fit_transform(docs)\n",
    "#print(type(oneHotCv))\n",
    "#print(dir(oneHotCv))\n",
    "#print(cv.get_feature_names())\n",
    "oneHotArray = oneHotCv.toarray()\n",
    "oneHotArray.shape"
   ]
  },
  {
   "cell_type": "code",
   "execution_count": 9,
   "id": "d74f2ad3-07b9-42a5-83b4-636fa90c2b50",
   "metadata": {},
   "outputs": [
    {
     "data": {
      "text/plain": [
       "'\\nnumberZero = 0\\nnumberOne = 1\\nprint(\"Length of Tweet {} according to textforttb: \".format(numberZero)+str(len(df[\"edited\"][numberZero].split()))) \\nprint(\"Length of Tweet {} according to oneHotArray: \".format(numberZero)+str(sum(oneHotArray[numberZero])))\\nprint(max(oneHotArray[0]))\\nprint(df[\"edited\"][numberZero].split())\\nprint(oneHotArray[numberZero])\\n# All Unique Words are represented in the oneHotArray. Only \"Und\" ist removed, which results in a length -1.\\n'"
      ]
     },
     "execution_count": 9,
     "metadata": {},
     "output_type": "execute_result"
    }
   ],
   "source": [
    "\"\"\"\n",
    "numberZero = 0\n",
    "numberOne = 1\n",
    "print(\"Length of Tweet {} according to textforttb: \".format(numberZero)+str(len(df[\"edited\"][numberZero].split()))) \n",
    "print(\"Length of Tweet {} according to oneHotArray: \".format(numberZero)+str(sum(oneHotArray[numberZero])))\n",
    "print(max(oneHotArray[0]))\n",
    "print(df[\"edited\"][numberZero].split())\n",
    "print(oneHotArray[numberZero])\n",
    "# All Unique Words are represented in the oneHotArray. Only \"Und\" ist removed, which results in a length -1.\n",
    "\"\"\""
   ]
  },
  {
   "cell_type": "code",
   "execution_count": 10,
   "id": "293a09d9-4736-4eb7-b9bc-ee51dda86548",
   "metadata": {},
   "outputs": [
    {
     "name": "stdout",
     "output_type": "stream",
     "text": [
      "<class 'pandas.core.frame.DataFrame'>\n",
      "RangeIndex: 4012 entries, 0 to 4011\n",
      "Columns: 12454 entries, 000 to zypries\n",
      "dtypes: int64(12454)\n",
      "memory usage: 381.2 MB\n",
      "None\n"
     ]
    }
   ],
   "source": [
    "oneHotDf = pd.DataFrame(oneHotArray)\n",
    "oneHotDf.columns = cv.get_feature_names_out()\n",
    "oneHotDf.head()\n",
    "print(oneHotDf.info())\n",
    "#print(oneHotDf[\"text\"])"
   ]
  },
  {
   "cell_type": "code",
   "execution_count": 11,
   "id": "d267fe82-a0bc-4d6b-9981-0735625570fe",
   "metadata": {},
   "outputs": [],
   "source": [
    "longDF = pd.concat([df,oneHotDf], axis = 1)\n",
    "#print(type(longDF))\n"
   ]
  },
  {
   "cell_type": "code",
   "execution_count": 12,
   "id": "8f4dcb4e-3c7f-4edc-ab87-ae226a18ea2a",
   "metadata": {},
   "outputs": [
    {
     "name": "stdout",
     "output_type": "stream",
     "text": [
      "<class 'pandas.core.frame.DataFrame'>\n",
      "RangeIndex: 4012 entries, 0 to 4011\n",
      "Columns: 12478 entries, tweetidInput to zypries\n",
      "dtypes: bool(2), int64(12467), object(9)\n",
      "memory usage: 381.9+ MB\n",
      "None\n",
      "tweetidInput        4012\n",
      "datetimeInput       4012\n",
      "dateInput           4012\n",
      "timeInput           4012\n",
      "userInput           4012\n",
      "                    ... \n",
      "zwischenschritt     4012\n",
      "zwischenzeit        4012\n",
      "zwischenzeitlich    4012\n",
      "zynisch             4012\n",
      "zypries             4012\n",
      "Length: 12478, dtype: int64\n"
     ]
    }
   ],
   "source": [
    "#print(df.info())\n",
    "print(longDF.info())\n",
    "print(str(longDF.count()))\n",
    "#dir(longDF)"
   ]
  },
  {
   "cell_type": "code",
   "execution_count": 14,
   "id": "0d65065d-bbb2-4ca9-b3d3-e6a13dba3bb9",
   "metadata": {},
   "outputs": [
    {
     "name": "stdout",
     "output_type": "stream",
     "text": [
      "saarlaenderinnen    1\n",
      "saarlaender         1\n",
      "klar                1\n",
      "wechsel             1\n",
      "spitze              1\n",
      "landes              1\n",
      "entschieden         1\n",
      "sicher              1\n",
      "gestalten           1\n",
      "du                  1\n",
      "herzlichen          1\n",
      "glueckwunsch        1\n",
      "ueberzeugenden      1\n",
      "wahlsieg            1\n",
      "ltwsaar22           1\n",
      "saarland            1\n",
      "Name: 0, dtype: object\n"
     ]
    }
   ],
   "source": [
    "#print(longDF.iloc[0][\"edited\"])\n",
    "print(longDF.iloc[0][longDF.iloc[0][\"editedInput\"].split()])"
   ]
  },
  {
   "cell_type": "code",
   "execution_count": 15,
   "id": "7588806a-1f6d-456a-bc65-ca4cf2f3bdf4",
   "metadata": {},
   "outputs": [
    {
     "name": "stdout",
     "output_type": "stream",
     "text": [
      "Index(['tweetidInput', 'datetimeInput', 'dateInput', 'timeInput', 'userInput',\n",
      "       'textInput', 'languageInput', 'editedInput', 'textforttbInput',\n",
      "       'lematizedInput', 'AnalysisInput', 'word_countInput', 'WutInput',\n",
      "       'VorfreudeInput', 'EkelInput', 'FurchtInput', 'FreudeInput',\n",
      "       'TraurigkeitInput', 'UeberraschungInput', 'VertrauenInput',\n",
      "       'neg_emotionsInput', 'pos_emotionsInput', 'total_neg_emotionsInput',\n",
      "       'total_pos_emotionsInput', '000', '0230', '0800016'],\n",
      "      dtype='object')\n",
      "Index(['tweetidInput', 'datetimeInput', 'dateInput', 'timeInput', 'userInput',\n",
      "       'textInput', 'languageInput', 'editedInput', 'textforttbInput',\n",
      "       'lematizedInput', 'AnalysisInput', 'word_countInput', 'WutInput',\n",
      "       'VorfreudeInput', 'EkelInput', 'FurchtInput', 'FreudeInput',\n",
      "       'TraurigkeitInput', 'UeberraschungInput', 'VertrauenInput',\n",
      "       'neg_emotionsInput', 'pos_emotionsInput', 'total_neg_emotionsInput',\n",
      "       'total_pos_emotionsInput'],\n",
      "      dtype='object')\n"
     ]
    }
   ],
   "source": [
    "print(longDF.keys()[:27])\n",
    "print(longDF.keys()[:24])\n",
    "#Shows that keys[0:25] are tweet data, thats not part of the NLP"
   ]
  },
  {
   "cell_type": "code",
   "execution_count": 17,
   "id": "4e0358b0-12df-41eb-baea-cb4b9e3d9aeb",
   "metadata": {},
   "outputs": [],
   "source": [
    "tweet_features = longDF.keys()[24:]\n",
    "\"\"\"print(df.keys())\n",
    "print(str(longDF[\"text\"].head())+\"\\n\")\n",
    "print(longDF[\"time\"].head())\n",
    "print(longDF[\"date\"].head())\n",
    "print(longDF.keys()[5:].tolist().index(\"time\")+1)\n",
    "#tweet_features = longDF.keys()[10620:10630]\n",
    "print(longDF[longDF.columns[10620:10630]])\"\"\"\n",
    "X_trainingData = longDF[tweet_features]\n"
   ]
  },
  {
   "cell_type": "code",
   "execution_count": 19,
   "id": "b93ba3fc-a916-429d-a78b-d4b0e488c41b",
   "metadata": {},
   "outputs": [
    {
     "data": {
      "text/html": [
       "<style>#sk-container-id-2 {color: black;background-color: white;}#sk-container-id-2 pre{padding: 0;}#sk-container-id-2 div.sk-toggleable {background-color: white;}#sk-container-id-2 label.sk-toggleable__label {cursor: pointer;display: block;width: 100%;margin-bottom: 0;padding: 0.3em;box-sizing: border-box;text-align: center;}#sk-container-id-2 label.sk-toggleable__label-arrow:before {content: \"▸\";float: left;margin-right: 0.25em;color: #696969;}#sk-container-id-2 label.sk-toggleable__label-arrow:hover:before {color: black;}#sk-container-id-2 div.sk-estimator:hover label.sk-toggleable__label-arrow:before {color: black;}#sk-container-id-2 div.sk-toggleable__content {max-height: 0;max-width: 0;overflow: hidden;text-align: left;background-color: #f0f8ff;}#sk-container-id-2 div.sk-toggleable__content pre {margin: 0.2em;color: black;border-radius: 0.25em;background-color: #f0f8ff;}#sk-container-id-2 input.sk-toggleable__control:checked~div.sk-toggleable__content {max-height: 200px;max-width: 100%;overflow: auto;}#sk-container-id-2 input.sk-toggleable__control:checked~label.sk-toggleable__label-arrow:before {content: \"▾\";}#sk-container-id-2 div.sk-estimator input.sk-toggleable__control:checked~label.sk-toggleable__label {background-color: #d4ebff;}#sk-container-id-2 div.sk-label input.sk-toggleable__control:checked~label.sk-toggleable__label {background-color: #d4ebff;}#sk-container-id-2 input.sk-hidden--visually {border: 0;clip: rect(1px 1px 1px 1px);clip: rect(1px, 1px, 1px, 1px);height: 1px;margin: -1px;overflow: hidden;padding: 0;position: absolute;width: 1px;}#sk-container-id-2 div.sk-estimator {font-family: monospace;background-color: #f0f8ff;border: 1px dotted black;border-radius: 0.25em;box-sizing: border-box;margin-bottom: 0.5em;}#sk-container-id-2 div.sk-estimator:hover {background-color: #d4ebff;}#sk-container-id-2 div.sk-parallel-item::after {content: \"\";width: 100%;border-bottom: 1px solid gray;flex-grow: 1;}#sk-container-id-2 div.sk-label:hover label.sk-toggleable__label {background-color: #d4ebff;}#sk-container-id-2 div.sk-serial::before {content: \"\";position: absolute;border-left: 1px solid gray;box-sizing: border-box;top: 0;bottom: 0;left: 50%;z-index: 0;}#sk-container-id-2 div.sk-serial {display: flex;flex-direction: column;align-items: center;background-color: white;padding-right: 0.2em;padding-left: 0.2em;position: relative;}#sk-container-id-2 div.sk-item {position: relative;z-index: 1;}#sk-container-id-2 div.sk-parallel {display: flex;align-items: stretch;justify-content: center;background-color: white;position: relative;}#sk-container-id-2 div.sk-item::before, #sk-container-id-2 div.sk-parallel-item::before {content: \"\";position: absolute;border-left: 1px solid gray;box-sizing: border-box;top: 0;bottom: 0;left: 50%;z-index: -1;}#sk-container-id-2 div.sk-parallel-item {display: flex;flex-direction: column;z-index: 1;position: relative;background-color: white;}#sk-container-id-2 div.sk-parallel-item:first-child::after {align-self: flex-end;width: 50%;}#sk-container-id-2 div.sk-parallel-item:last-child::after {align-self: flex-start;width: 50%;}#sk-container-id-2 div.sk-parallel-item:only-child::after {width: 0;}#sk-container-id-2 div.sk-dashed-wrapped {border: 1px dashed gray;margin: 0 0.4em 0.5em 0.4em;box-sizing: border-box;padding-bottom: 0.4em;background-color: white;}#sk-container-id-2 div.sk-label label {font-family: monospace;font-weight: bold;display: inline-block;line-height: 1.2em;}#sk-container-id-2 div.sk-label-container {text-align: center;}#sk-container-id-2 div.sk-container {/* jupyter's `normalize.less` sets `[hidden] { display: none; }` but bootstrap.min.css set `[hidden] { display: none !important; }` so we also need the `!important` here to be able to override the default hidden behavior on the sphinx rendered scikit-learn.org. See: https://github.com/scikit-learn/scikit-learn/issues/21755 */display: inline-block !important;position: relative;}#sk-container-id-2 div.sk-text-repr-fallback {display: none;}</style><div id=\"sk-container-id-2\" class=\"sk-top-container\"><div class=\"sk-text-repr-fallback\"><pre>DecisionTreeRegressor(random_state=1)</pre><b>In a Jupyter environment, please rerun this cell to show the HTML representation or trust the notebook. <br />On GitHub, the HTML representation is unable to render, please try loading this page with nbviewer.org.</b></div><div class=\"sk-container\" hidden><div class=\"sk-item\"><div class=\"sk-estimator sk-toggleable\"><input class=\"sk-toggleable__control sk-hidden--visually\" id=\"sk-estimator-id-2\" type=\"checkbox\" checked><label for=\"sk-estimator-id-2\" class=\"sk-toggleable__label sk-toggleable__label-arrow\">DecisionTreeRegressor</label><div class=\"sk-toggleable__content\"><pre>DecisionTreeRegressor(random_state=1)</pre></div></div></div></div></div>"
      ],
      "text/plain": [
       "DecisionTreeRegressor(random_state=1)"
      ]
     },
     "execution_count": 19,
     "metadata": {},
     "output_type": "execute_result"
    }
   ],
   "source": [
    "from sklearn.tree import DecisionTreeRegressor\n",
    "from sklearn.model_selection import train_test_split\n",
    "\n",
    "train_X, val_X, train_y, val_y = train_test_split(X_trainingData, y_emotionWut, random_state = 0)\n",
    "emotion_Model = DecisionTreeRegressor(random_state = 1)\n",
    "\n"
   ]
  },
  {
   "cell_type": "code",
   "execution_count": 27,
   "id": "8c1c4c2c-1ff1-47f6-b3a0-1cc25abd6933",
   "metadata": {},
   "outputs": [
    {
     "name": "stdout",
     "output_type": "stream",
     "text": [
      "[0. 0. 0. 0. 0.]\n",
      "0.0\n"
     ]
    }
   ],
   "source": [
    "from sklearn.metrics import mean_absolute_error\n",
    "val_predictions = emotion_Model.predict(val_X)\n",
    "print(emotion_Model.predict(val_X.head()))\n",
    "print(mean_absolute_error(val_y,val_predictions))"
   ]
  },
  {
   "cell_type": "code",
   "execution_count": 44,
   "id": "9570038d-f028-4283-805b-1dd96c5c2d4e",
   "metadata": {},
   "outputs": [
    {
     "name": "stdout",
     "output_type": "stream",
     "text": [
      "Wut: \n",
      "Mean Absolute error for Wut: 0.0%\n",
      "\n",
      "Vorfreude: \n",
      "Mean Absolute error for Vorfreude: 22.33%\n",
      "\n",
      "Ekel: \n",
      "Mean Absolute error for Ekel: 7.38%\n",
      "\n",
      "Furcht: \n",
      "Mean Absolute error for Furcht: 7.88%\n",
      "\n",
      "Freude: \n",
      "Mean Absolute error for Freude: 27.42%\n",
      "\n",
      "Traurigkeit: \n",
      "Mean Absolute error for Traurigkeit: 9.17%\n",
      "\n",
      "Ueberraschung: \n",
      "Mean Absolute error for Ueberraschung: 16.45%\n",
      "\n",
      "Vertrauen: \n",
      "Mean Absolute error for Vertrauen: 42.57%\n",
      "\n"
     ]
    }
   ],
   "source": [
    "keys = list(longDF.keys()[12:20])\n",
    "#print(list((keys)))\n",
    "for emotion in longDF[keys]:\n",
    "    print(emotion[:-5] + \": \")\n",
    "    #print(longDF[emotion].head())\n",
    "    y_emotion = longDF[emotion]\n",
    "    train_X, val_X, train_y, val_y = train_test_split(X_trainingData, y_emotion, random_state = 0)\n",
    "    emotion_Model = DecisionTreeRegressor(random_state = 1)\n",
    "    emotion_Model.fit(X_trainingData,y_emotionWut)\n",
    "    #print(emotion_Model.predict(val_X.head()))\n",
    "    print(\"Mean Absolute error for {}: \".format(emotion[:-5]) + str(round(mean_absolute_error(val_y,val_predictions)*100,2))+\"%\\n\")\n",
    "    #y_emotionGoal = longDF[emotion]\n",
    "    "
   ]
  },
  {
   "cell_type": "code",
   "execution_count": null,
   "id": "ccc99472-e31b-43a6-b51e-3841e71ede9b",
   "metadata": {},
   "outputs": [],
   "source": []
  }
 ],
 "metadata": {
  "kernelspec": {
   "display_name": "Python 3 (ipykernel)",
   "language": "python",
   "name": "python3"
  },
  "language_info": {
   "codemirror_mode": {
    "name": "ipython",
    "version": 3
   },
   "file_extension": ".py",
   "mimetype": "text/x-python",
   "name": "python",
   "nbconvert_exporter": "python",
   "pygments_lexer": "ipython3",
   "version": "3.9.7"
  }
 },
 "nbformat": 4,
 "nbformat_minor": 5
}
