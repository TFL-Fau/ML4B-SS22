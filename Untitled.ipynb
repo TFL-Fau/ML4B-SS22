{
 "cells": [
  {
   "cell_type": "code",
   "execution_count": 12,
   "id": "22e3e693-b9e9-4d3a-8583-e15f040e6252",
   "metadata": {},
   "outputs": [],
   "source": [
    "import streamlit as st\n",
    "import jsonlines\n",
    "import random\n",
    "import pandas as pd\n",
    "import json\n",
    "import fileinput\n",
    "import numpy as np"
   ]
  },
  {
   "cell_type": "code",
   "execution_count": null,
   "id": "cec65971-bd4a-4824-b74a-156b730ca60e",
   "metadata": {},
   "outputs": [],
   "source": [
    "#Importing Dataset\n",
    "\n",
    "df2 = pd.read_json(\"OlafScholz.jl\", lines = True)\n",
    "\n",
    "#Starting to investigate Dataset\n",
    "df2.describe()"
   ]
  },
  {
   "cell_type": "code",
   "execution_count": 38,
   "id": "5b1fbb54-490f-4c5f-bf17-427434ca8f60",
   "metadata": {},
   "outputs": [
    {
     "data": {
      "text/html": [
       "<div>\n",
       "<style scoped>\n",
       "    .dataframe tbody tr th:only-of-type {\n",
       "        vertical-align: middle;\n",
       "    }\n",
       "\n",
       "    .dataframe tbody tr th {\n",
       "        vertical-align: top;\n",
       "    }\n",
       "\n",
       "    .dataframe thead th {\n",
       "        text-align: right;\n",
       "    }\n",
       "</style>\n",
       "<table border=\"1\" class=\"dataframe\">\n",
       "  <thead>\n",
       "    <tr style=\"text-align: right;\">\n",
       "      <th></th>\n",
       "      <th>http_status</th>\n",
       "      <th>account_name</th>\n",
       "      <th>account_data</th>\n",
       "      <th>params</th>\n",
       "      <th>response</th>\n",
       "    </tr>\n",
       "  </thead>\n",
       "  <tbody>\n",
       "    <tr>\n",
       "      <th>0</th>\n",
       "      <td>200</td>\n",
       "      <td>OlafScholz</td>\n",
       "      <td>{'Name': 'Scholz, Olaf', 'Partei': 'SPD', 'id'...</td>\n",
       "      <td>[[query, from:OlafScholz], [max_results, 100],...</td>\n",
       "      <td>{'data': [{'context_annotations': [{'domain': ...</td>\n",
       "    </tr>\n",
       "    <tr>\n",
       "      <th>1</th>\n",
       "      <td>200</td>\n",
       "      <td>OlafScholz</td>\n",
       "      <td>{'Name': 'Scholz, Olaf', 'Partei': 'SPD', 'id'...</td>\n",
       "      <td>[[query, from:OlafScholz], [max_results, 100],...</td>\n",
       "      <td>{'data': [{'in_reply_to_user_id': '38150247', ...</td>\n",
       "    </tr>\n",
       "    <tr>\n",
       "      <th>2</th>\n",
       "      <td>200</td>\n",
       "      <td>OlafScholz</td>\n",
       "      <td>{'Name': 'Scholz, Olaf', 'Partei': 'SPD', 'id'...</td>\n",
       "      <td>[[query, from:OlafScholz], [max_results, 100],...</td>\n",
       "      <td>{'data': [{'conversation_id': '144576374098134...</td>\n",
       "    </tr>\n",
       "    <tr>\n",
       "      <th>3</th>\n",
       "      <td>200</td>\n",
       "      <td>OlafScholz</td>\n",
       "      <td>{'Name': 'Scholz, Olaf', 'Partei': 'SPD', 'id'...</td>\n",
       "      <td>[[query, from:OlafScholz], [max_results, 100],...</td>\n",
       "      <td>{'data': [{'created_at': '2021-09-02T13:33:12....</td>\n",
       "    </tr>\n",
       "    <tr>\n",
       "      <th>4</th>\n",
       "      <td>200</td>\n",
       "      <td>OlafScholz</td>\n",
       "      <td>{'Name': 'Scholz, Olaf', 'Partei': 'SPD', 'id'...</td>\n",
       "      <td>[[query, from:OlafScholz], [max_results, 100],...</td>\n",
       "      <td>{'data': [{'conversation_id': '141999599421797...</td>\n",
       "    </tr>\n",
       "  </tbody>\n",
       "</table>\n",
       "</div>"
      ],
      "text/plain": [
       "   http_status account_name  \\\n",
       "0          200   OlafScholz   \n",
       "1          200   OlafScholz   \n",
       "2          200   OlafScholz   \n",
       "3          200   OlafScholz   \n",
       "4          200   OlafScholz   \n",
       "\n",
       "                                        account_data  \\\n",
       "0  {'Name': 'Scholz, Olaf', 'Partei': 'SPD', 'id'...   \n",
       "1  {'Name': 'Scholz, Olaf', 'Partei': 'SPD', 'id'...   \n",
       "2  {'Name': 'Scholz, Olaf', 'Partei': 'SPD', 'id'...   \n",
       "3  {'Name': 'Scholz, Olaf', 'Partei': 'SPD', 'id'...   \n",
       "4  {'Name': 'Scholz, Olaf', 'Partei': 'SPD', 'id'...   \n",
       "\n",
       "                                              params  \\\n",
       "0  [[query, from:OlafScholz], [max_results, 100],...   \n",
       "1  [[query, from:OlafScholz], [max_results, 100],...   \n",
       "2  [[query, from:OlafScholz], [max_results, 100],...   \n",
       "3  [[query, from:OlafScholz], [max_results, 100],...   \n",
       "4  [[query, from:OlafScholz], [max_results, 100],...   \n",
       "\n",
       "                                            response  \n",
       "0  {'data': [{'context_annotations': [{'domain': ...  \n",
       "1  {'data': [{'in_reply_to_user_id': '38150247', ...  \n",
       "2  {'data': [{'conversation_id': '144576374098134...  \n",
       "3  {'data': [{'created_at': '2021-09-02T13:33:12....  \n",
       "4  {'data': [{'conversation_id': '141999599421797...  "
      ]
     },
     "execution_count": 38,
     "metadata": {},
     "output_type": "execute_result"
    }
   ],
   "source": [
    "df2.head()"
   ]
  },
  {
   "cell_type": "code",
   "execution_count": 37,
   "id": "0853740e-c4ad-4bc2-ba14-9f4b462432f5",
   "metadata": {},
   "outputs": [
    {
     "name": "stdout",
     "output_type": "stream",
     "text": [
      "<class 'pandas.core.frame.DataFrame'>\n",
      "RangeIndex: 65 entries, 0 to 64\n",
      "Data columns (total 5 columns):\n",
      " #   Column        Non-Null Count  Dtype \n",
      "---  ------        --------------  ----- \n",
      " 0   http_status   65 non-null     int64 \n",
      " 1   account_name  65 non-null     object\n",
      " 2   account_data  65 non-null     object\n",
      " 3   params        65 non-null     object\n",
      " 4   response      65 non-null     object\n",
      "dtypes: int64(1), object(4)\n",
      "memory usage: 2.7+ KB\n"
     ]
    }
   ],
   "source": [
    "df2.info()"
   ]
  },
  {
   "cell_type": "code",
   "execution_count": 48,
   "id": "c2e23ac2-2fb2-4578-b6e5-264148a3dc7c",
   "metadata": {},
   "outputs": [
    {
     "name": "stdout",
     "output_type": "stream",
     "text": [
      "   http_status account_name  \\\n",
      "0          200   OlafScholz   \n",
      "\n",
      "                                        account_data  \\\n",
      "0  {'Name': 'Scholz, Olaf', 'Partei': 'SPD', 'id'...   \n",
      "\n",
      "                                              params  \\\n",
      "0  [[query, from:OlafScholz], [max_results, 100],...   \n",
      "\n",
      "                                            response  \n",
      "0  {'data': [{'context_annotations': [{'domain': ...  \n"
     ]
    }
   ],
   "source": [
    "#df2.shape\n",
    "#help(df2)\n",
    "print(df2.iloc[:1])"
   ]
  },
  {
   "cell_type": "code",
   "execution_count": 40,
   "id": "f946ab64-185f-47a7-993b-a4e959ba6e48",
   "metadata": {},
   "outputs": [
    {
     "data": {
      "text/plain": [
       "Index(['http_status', 'account_name', 'account_data', 'params', 'response'], dtype='object')"
      ]
     },
     "execution_count": 40,
     "metadata": {},
     "output_type": "execute_result"
    }
   ],
   "source": [
    "df2.columns"
   ]
  },
  {
   "cell_type": "code",
   "execution_count": 35,
   "id": "e4f024be-becd-4426-bd46-fcb0bef1e987",
   "metadata": {},
   "outputs": [
    {
     "data": {
      "text/plain": [
       "pandas.core.series.Series"
      ]
     },
     "execution_count": 35,
     "metadata": {},
     "output_type": "execute_result"
    }
   ],
   "source": [
    "df_accountData = df2[\"account_data\"]\n",
    "df_accountData.head()\n",
    "type(df_accountData)"
   ]
  },
  {
   "cell_type": "code",
   "execution_count": 39,
   "id": "494d6fb4-f902-4921-a01a-4d1e8d948ffd",
   "metadata": {},
   "outputs": [
    {
     "name": "stdout",
     "output_type": "stream",
     "text": [
      "{'Name': 'Scholz, Olaf', 'Partei': 'SPD', 'id': 38150247, 'screen_name': 'OlafScholz', 't0': '20211020-103923.json', 'value': 'Scholz, Olaf'}\n"
     ]
    }
   ],
   "source": [
    "testData = df_accountData.iloc[0]\n",
    "#type(testData)\n",
    "#dir(testData)\n",
    "#testData.keys()\n",
    "#type(testData.keys())\n",
    "#dir(testData.keys())\n",
    "print(testData)"
   ]
  },
  {
   "cell_type": "code",
   "execution_count": 50,
   "id": "7a55697d-a9da-4c98-915b-3fe592a4393b",
   "metadata": {},
   "outputs": [],
   "source": [
    "responses = df2[\"response\"]"
   ]
  },
  {
   "cell_type": "code",
   "execution_count": 51,
   "id": "3b7bf573-daca-4cc1-a33b-6bae759d441d",
   "metadata": {},
   "outputs": [
    {
     "data": {
      "text/plain": [
       "pandas.core.series.Series"
      ]
     },
     "execution_count": 51,
     "metadata": {},
     "output_type": "execute_result"
    }
   ],
   "source": [
    "type(responses)"
   ]
  },
  {
   "cell_type": "code",
   "execution_count": null,
   "id": "d17a9506-de09-4a0d-ac00-6cf09f4ad15d",
   "metadata": {},
   "outputs": [],
   "source": [
    "dir(responses)"
   ]
  },
  {
   "cell_type": "code",
   "execution_count": 63,
   "id": "19044050-30ef-4a58-850c-bcd352edae44",
   "metadata": {},
   "outputs": [
    {
     "data": {
      "text/plain": [
       "<bound method NDFrame.describe of 0     {'data': [{'context_annotations': [{'domain': ...\n",
       "1     {'data': [{'in_reply_to_user_id': '38150247', ...\n",
       "2     {'data': [{'conversation_id': '144576374098134...\n",
       "3     {'data': [{'created_at': '2021-09-02T13:33:12....\n",
       "4     {'data': [{'conversation_id': '141999599421797...\n",
       "                            ...                        \n",
       "60    {'data': [{'author_id': '38150247', 'entities'...\n",
       "61    {'data': [{'text': 'bei #Google+ http://t.co/t...\n",
       "62    {'data': [{'id': '70401714477477888', 'lang': ...\n",
       "63    {'data': [{'reply_settings': 'everyone', 'conv...\n",
       "64    {'data': [{'public_metrics': {'retweet_count':...\n",
       "Name: response, Length: 65, dtype: object>"
      ]
     },
     "execution_count": 63,
     "metadata": {},
     "output_type": "execute_result"
    }
   ],
   "source": [
    "responses.describe"
   ]
  },
  {
   "cell_type": "code",
   "execution_count": 59,
   "id": "6644f2a3-b2fd-494d-9305-ee6df5371b9a",
   "metadata": {},
   "outputs": [
    {
     "data": {
      "text/plain": [
       "RangeIndex(start=0, stop=65, step=1)"
      ]
     },
     "execution_count": 59,
     "metadata": {},
     "output_type": "execute_result"
    }
   ],
   "source": [
    "responses.keys()"
   ]
  },
  {
   "cell_type": "code",
   "execution_count": 64,
   "id": "617e0fe0-23d5-47ba-b0b0-d1294f45518f",
   "metadata": {},
   "outputs": [],
   "source": [
    "responses.to_csv(\"responses.csv\")"
   ]
  },
  {
   "cell_type": "code",
   "execution_count": 66,
   "id": "9f504e77-9864-482c-ad05-44c33828ed21",
   "metadata": {},
   "outputs": [],
   "source": [
    "singleResponse = responses[0:1]"
   ]
  },
  {
   "cell_type": "code",
   "execution_count": 69,
   "id": "a4ab4df5-05c6-4aab-b0d1-b897e575638c",
   "metadata": {},
   "outputs": [
    {
     "name": "stdout",
     "output_type": "stream",
     "text": [
      "0    {'data': [{'context_annotations': [{'domain': ...\n",
      "Name: response, dtype: object\n"
     ]
    }
   ],
   "source": [
    "print(singleResponse)"
   ]
  },
  {
   "cell_type": "code",
   "execution_count": 68,
   "id": "b24c1cd7-d1c8-4781-bef2-6d8617bb5013",
   "metadata": {},
   "outputs": [
    {
     "data": {
      "text/plain": [
       "count                                                     1\n",
       "unique                                                    1\n",
       "top       {'data': [{'context_annotations': [{'domain': ...\n",
       "freq                                                      1\n",
       "Name: response, dtype: object"
      ]
     },
     "execution_count": 68,
     "metadata": {},
     "output_type": "execute_result"
    }
   ],
   "source": [
    "singleResponse.describe()"
   ]
  },
  {
   "cell_type": "code",
   "execution_count": 70,
   "id": "e9fa4302-52ca-4e7c-9059-49baf6ccb1ec",
   "metadata": {},
   "outputs": [
    {
     "data": {
      "text/plain": [
       "pandas.core.series.Series"
      ]
     },
     "execution_count": 70,
     "metadata": {},
     "output_type": "execute_result"
    }
   ],
   "source": [
    "type(singleResponse)"
   ]
  },
  {
   "cell_type": "code",
   "execution_count": null,
   "id": "c7ee7bb3-f2ab-4baa-930f-717c2e42f946",
   "metadata": {},
   "outputs": [],
   "source": []
  }
 ],
 "metadata": {
  "kernelspec": {
   "display_name": "Python 3 (ipykernel)",
   "language": "python",
   "name": "python3"
  },
  "language_info": {
   "codemirror_mode": {
    "name": "ipython",
    "version": 3
   },
   "file_extension": ".py",
   "mimetype": "text/x-python",
   "name": "python",
   "nbconvert_exporter": "python",
   "pygments_lexer": "ipython3",
   "version": "3.9.7"
  }
 },
 "nbformat": 4,
 "nbformat_minor": 5
}
