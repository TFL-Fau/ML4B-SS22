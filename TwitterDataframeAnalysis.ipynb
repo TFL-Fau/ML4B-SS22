{
 "cells": [
  {
   "cell_type": "code",
   "execution_count": 1,
   "id": "22e3e693-b9e9-4d3a-8583-e15f040e6252",
   "metadata": {},
   "outputs": [
    {
     "name": "stderr",
     "output_type": "stream",
     "text": [
      "2022-05-22 15:23:41.824 INFO    numexpr.utils: NumExpr defaulting to 8 threads.\n"
     ]
    }
   ],
   "source": [
    "import streamlit as st\n",
    "import jsonlines\n",
    "import random\n",
    "import pandas as pd\n",
    "import json\n",
    "import fileinput\n",
    "import numpy as np\n",
    "from pprint import pprint"
   ]
  },
  {
   "cell_type": "code",
   "execution_count": 2,
   "id": "b2a8e91d-6e0b-42d7-b340-141f503131fd",
   "metadata": {},
   "outputs": [
    {
     "name": "stdout",
     "output_type": "stream",
     "text": [
      "<class 'pandas.core.frame.DataFrame'>\n",
      "RangeIndex: 65 entries, 0 to 64\n",
      "Data columns (total 5 columns):\n",
      " #   Column        Non-Null Count  Dtype \n",
      "---  ------        --------------  ----- \n",
      " 0   http_status   65 non-null     int64 \n",
      " 1   account_name  65 non-null     object\n",
      " 2   account_data  65 non-null     object\n",
      " 3   params        65 non-null     object\n",
      " 4   response      65 non-null     object\n",
      "dtypes: int64(1), object(4)\n",
      "memory usage: 2.7+ KB\n",
      "Datensatzlänge: None\n",
      "   http_status account_name  \\\n",
      "0          200   OlafScholz   \n",
      "1          200   OlafScholz   \n",
      "2          200   OlafScholz   \n",
      "3          200   OlafScholz   \n",
      "4          200   OlafScholz   \n",
      "\n",
      "                                        account_data  \\\n",
      "0  {'Name': 'Scholz, Olaf', 'Partei': 'SPD', 'id'...   \n",
      "1  {'Name': 'Scholz, Olaf', 'Partei': 'SPD', 'id'...   \n",
      "2  {'Name': 'Scholz, Olaf', 'Partei': 'SPD', 'id'...   \n",
      "3  {'Name': 'Scholz, Olaf', 'Partei': 'SPD', 'id'...   \n",
      "4  {'Name': 'Scholz, Olaf', 'Partei': 'SPD', 'id'...   \n",
      "\n",
      "                                              params  \\\n",
      "0  [[query, from:OlafScholz], [max_results, 100],...   \n",
      "1  [[query, from:OlafScholz], [max_results, 100],...   \n",
      "2  [[query, from:OlafScholz], [max_results, 100],...   \n",
      "3  [[query, from:OlafScholz], [max_results, 100],...   \n",
      "4  [[query, from:OlafScholz], [max_results, 100],...   \n",
      "\n",
      "                                            response  \n",
      "0  {'data': [{'context_annotations': [{'domain': ...  \n",
      "1  {'data': [{'in_reply_to_user_id': '38150247', ...  \n",
      "2  {'data': [{'conversation_id': '144576374098134...  \n",
      "3  {'data': [{'created_at': '2021-09-02T13:33:12....  \n",
      "4  {'data': [{'conversation_id': '141999599421797...  \n"
     ]
    }
   ],
   "source": [
    "#Importing Dataset\n",
    "olafScholzJsonLines = jsonlines.open(\"OlafScholz.jl\")\n",
    "\n",
    "olafScholzTwitter = pd.read_json(\"OlafScholz.jl\", lines = True)\n",
    "print(\"Datensatzlänge: \" + str(olafScholzTwitter.info()))\n",
    "\n",
    "print(olafScholzTwitter.head())\n"
   ]
  },
  {
   "cell_type": "code",
   "execution_count": 3,
   "id": "25271d17-5b2c-4e1d-9044-d2c59f6fa788",
   "metadata": {},
   "outputs": [
    {
     "ename": "SyntaxError",
     "evalue": "EOL while scanning string literal (221171029.py, line 7)",
     "output_type": "error",
     "traceback": [
      "\u001b[0;36m  File \u001b[0;32m\"/var/folders/yl/dt_q929j1hg64nfh_lmhldhw0000gn/T/ipykernel_45744/221171029.py\"\u001b[0;36m, line \u001b[0;32m7\u001b[0m\n\u001b[0;31m    \"\"\"\"\u001b[0m\n\u001b[0m        \n^\u001b[0m\n\u001b[0;31mSyntaxError\u001b[0m\u001b[0;31m:\u001b[0m EOL while scanning string literal\n"
     ]
    }
   ],
   "source": [
    "\"\"\"\"\n",
    "print(\"Response Metadaten: \" + str(olafScholzTwitter[\"response\"][0].keys()))\n",
    "print(olafScholzTwitter[\"params\"][0].keys())\n",
    "for Key in ResponseKeys:\n",
    "    print(type(olafScholzTwitter[\"response\"][0][Key]))\n",
    "    #print(\"{}-Metadaten: \".format(Key) + str(olafScholzTwitter[\"response\"][0][Key]))\n",
    "\"\"\"\""
   ]
  },
  {
   "cell_type": "code",
   "execution_count": null,
   "id": "9d77c5c7",
   "metadata": {},
   "outputs": [],
   "source": [
    "#First Analysis of data from Olaf Scholz to get into the data\n",
    "\n",
    "file=\"Olafscholz.jl\"\n",
    "\n",
    "with jsonlines.open(file) as j:\n",
    "    for line in j:\n",
    "        print(type(line))\n",
    "        print(line.keys())\n",
    "        print(\"-\"*100)\n",
    "        #pprint(line) #Jede Zeile ist ein dictionary\n",
    "        \n",
    "        pprint(type(line['response']))\n",
    "        print(line['response'].keys())\n",
    "        #print(\"number if tweets:\", len(data))\n",
    "        pprint(data[0])\n",
    "        \n",
    "        break\n",
    "        #print(\"-\"*100)\n",
    "        #pprint(line['account_data'])\n",
    "        #print(\"-\"*100)\n",
    "        #pprint(line['params'])\n",
    "        #print(line.keys())\n",
    "        #print(\"Account Name:\", line['account_name'])\n",
    "        #print(\"-\"*100)\n",
    "        #print(\"Account_Data\", line['account_data'])\n",
    "        #print(\"-\"*100)\n",
    "        #type(line['response'])\n",
    "        #print(\"-\"*100)\n",
    "        #for i in line:\n",
    "        \n",
    "            #print(\"Response\", line['response'])\n",
    "           # print(\"-\"*100)\n",
    "            #break\n",
    "        #break\n",
    "        #print(\"Account_Data\", line['response'])\n",
    "        #print(\"Parameter\", line['params'])\n",
    "        #pprint(line['params'])\n",
    "        #print(\"-\"*100)\n",
    "        \n",
    "        #print(\"-\"*100)\n",
    "        #print(type(line['response']['data']))\n",
    "        #print(\"-\"*100)\n",
    "        #print(line['response'].keys())\n",
    "        #print(\"-\"*100)"
   ]
  },
  {
   "cell_type": "code",
   "execution_count": null,
   "id": "a5fced9a-5c71-426e-bb4c-94e25c8bb05f",
   "metadata": {},
   "outputs": [],
   "source": [
    "#print(olafScholzTwitter[\"response\"][0].len)\n",
    "#print(\"---\")\n",
    "#Starting to investigate Dataset\n",
    "#print(olafScholzTwitter.describe())\n",
    "#print(type(olafScholzTwitter))\n",
    "#print(olafScholzTwitter.keys())\n",
    "#for key in olafScholzTwitter:\n",
    "#print(\"{} : {}\".format(key, olafScholzTwitter[key]))\n",
    "#print(\"{}\".format(key) + str(type(olafScholzTwitter[key])))\n",
    "    "
   ]
  },
  {
   "cell_type": "code",
   "execution_count": null,
   "id": "dbc552a8-1f27-4ffa-8875-1556e474bcf9",
   "metadata": {},
   "outputs": [],
   "source": [
    "\"\"\"\n",
    "for line in olafScholzJsonLines:\n",
    "    #print(line)\n",
    "    \n",
    "    keyResponse = line[\"response\"]\n",
    "    print(\"Response-Type:\" + str(type(keyResponse)))\n",
    "    print(\"Response-Keys:\" + str(keyResponse.keys()))\n",
    "    \n",
    "    for key in keyResponse:\n",
    "        print(type(keyResponse[key]))\n",
    "        #pprint(keyResponse[key])\n",
    "        #print(\"{}-Metadaten: \".format(key) + str(keyResponse[key].keys()))\n",
    "    print(\"Includes-Metadaten: \" + str(keyResponse[\"includes\"].keys())+ \"\\n\")\n",
    " \n",
    "    print(\"Includes-Keys:\" + str(keyResponse[\"includes\"][\"users\"][0].keys())+\"\\n\")\n",
    "    #pprint(\"Example Includes:\" +\"\\n\" + str(keyResponse[\"includes\"][\"users\"])+\"\\n\")\n",
    "        \n",
    "    print(\"Meta-Metadaten: \" + str(keyResponse[\"meta\"].keys())+ \"\\n\")\n",
    "    data = keyResponse[\"data\"]\n",
    "    print(\"Type-Data: \" + str(type(data))+ \"\\n\")\n",
    "    print(str(data[0]) + \"\\n\")\n",
    "    print(\"Type-Data[0]: \" + str(type(data[0])) + \"\\n\")\n",
    "    print(\"data[0].keys(): \" + str(data[0].keys()) + \"\\n\")\n",
    "    #print(dir(data[0].keys()))\n",
    "    print(\"len(data[0].keys()): \" + str(len(data[0].keys())) + \"\\n\")\n",
    "    break\n",
    "\"\"\""
   ]
  },
  {
   "cell_type": "code",
   "execution_count": 4,
   "id": "ed117af7-5b00-4ff1-970b-2e6eb60fa65b",
   "metadata": {},
   "outputs": [
    {
     "name": "stdout",
     "output_type": "stream",
     "text": [
      "Empty DataFrame\n",
      "Columns: [target, tweetid, date, time, user, text]\n",
      "Index: []\n",
      "Iterator 0 has length: 100\n",
      "Iterator 1 has length: 100\n",
      "Iterator 2 has length: 100\n",
      "Iterator 3 has length: 100\n",
      "Iterator 4 has length: 100\n",
      "Iterator 5 has length: 100\n",
      "Iterator 6 has length: 100\n",
      "Iterator 7 has length: 100\n",
      "Iterator 8 has length: 99\n",
      "Iterator 9 has length: 100\n",
      "Iterator 10 has length: 100\n",
      "Iterator 11 has length: 100\n",
      "Iterator 12 has length: 100\n",
      "Iterator 13 has length: 100\n",
      "Iterator 14 has length: 100\n",
      "Iterator 15 has length: 100\n",
      "Iterator 16 has length: 100\n",
      "Iterator 17 has length: 100\n",
      "Iterator 18 has length: 100\n",
      "Iterator 19 has length: 100\n",
      "Iterator 20 has length: 100\n",
      "Iterator 21 has length: 100\n",
      "Iterator 22 has length: 100\n",
      "Iterator 23 has length: 100\n",
      "Iterator 24 has length: 100\n",
      "Iterator 25 has length: 100\n",
      "Iterator 26 has length: 100\n",
      "Iterator 27 has length: 100\n",
      "Iterator 28 has length: 100\n",
      "Iterator 29 has length: 100\n",
      "Iterator 30 has length: 100\n",
      "Iterator 31 has length: 100\n",
      "Iterator 32 has length: 100\n",
      "Iterator 33 has length: 100\n",
      "Iterator 34 has length: 100\n",
      "Iterator 35 has length: 100\n",
      "Iterator 36 has length: 100\n",
      "Iterator 37 has length: 100\n",
      "Iterator 38 has length: 100\n",
      "Iterator 39 has length: 100\n",
      "Iterator 40 has length: 99\n",
      "Iterator 41 has length: 100\n",
      "Iterator 42 has length: 100\n",
      "Iterator 43 has length: 100\n",
      "Iterator 44 has length: 100\n",
      "Iterator 45 has length: 100\n",
      "Iterator 46 has length: 100\n",
      "Iterator 47 has length: 100\n",
      "Iterator 48 has length: 100\n",
      "Iterator 49 has length: 100\n",
      "Iterator 50 has length: 100\n",
      "Iterator 51 has length: 100\n",
      "Iterator 52 has length: 100\n",
      "Iterator 53 has length: 100\n",
      "Iterator 54 has length: 100\n",
      "Iterator 55 has length: 100\n",
      "Iterator 56 has length: 100\n",
      "Iterator 57 has length: 100\n",
      "Iterator 58 has length: 100\n",
      "Iterator 59 has length: 100\n",
      "Iterator 60 has length: 100\n",
      "Iterator 61 has length: 100\n",
      "Iterator 62 has length: 100\n",
      "Iterator 63 has length: 100\n",
      "Iterator 64 has length: 21\n"
     ]
    }
   ],
   "source": [
    "# Reply Dataframe\n",
    "# Importing Data into final Dataframe for ML\n",
    "df = pd.DataFrame(columns = [\"target\", \"tweetid\", \"date\", \"time\", \"user\", \"text\"])\n",
    "print(df.head())\n",
    "#dir(replyDataFrame)\n",
    "iterator = 0\n",
    "\n",
    "for line in olafScholzJsonLines:\n",
    "    keyResponse = line[\"response\"]\n",
    "    data = keyResponse[\"data\"]\n",
    "    print(\"Iterator {} has length: \".format(iterator) + str(len(data)))\n",
    "    #pprint(data)\n",
    "    #[\"target\", \"ids\", \"date\", \"flag\", \"user\", \"text\"]\n",
    "    newDataRow = [None, None, None, None, None, None]\n",
    "    #print(line.keys())\n",
    "    userName = line[\"account_name\"]\n",
    "    #print(\"User Name: \" + str(line[\"account_name\"])+\"\\n\")\n",
    "    newDataRow[4] = userName\n",
    "    keyResponse = line[\"response\"]\n",
    "    data = keyResponse[\"data\"]\n",
    "\n",
    "\n",
    "    for tweet in data:\n",
    "        #print(\"Tweet-ID: \" + tweet[\"id\"])\n",
    "        #print(str(tweet) + \"\\n\")\n",
    "        tweetTarget = None\n",
    "        tweetID = tweet[\"id\"]\n",
    "        authorID = tweet[\"author_id\"]\n",
    "        tweetDate = tweet[\"created_at\"][0:10]\n",
    "        tweetTime = tweet[\"created_at\"][11:19]\n",
    "        #tweetFlag = \"NO_QUERY\"\n",
    "        tweetText = tweet[\"text\"]\n",
    "        #tweetAuthor = tweet[\"context_annotations\"]\n",
    "        #tweetAuthor = tweet[\"context_annotations\"]\n",
    "        #tweetAuthor = userName\n",
    "        #print(type(tweetAuthor))\n",
    "        \n",
    "        newDataRow[0] = tweetTarget\n",
    "        newDataRow[1] = tweetID\n",
    "        newDataRow[2] = tweetDate\n",
    "        newDataRow[3] = tweetTime\n",
    "        #newDataRow[4] = tweetFlag\n",
    "        newDataRow[4] = authorID\n",
    "        newDataRow[5] = tweetText\n",
    "        #newDataRow[4] = tweetAuthor\n",
    "        #pprint(newDataRow)\n",
    "        df.loc[len(df)] = newDataRow\n",
    "        #tempDataFrame = pd.DataFrame(newDataRow, columns[\"target\", \"ids\", \"date\", \"flag\", \"user\", \"text\"])\n",
    "        #replyDataFrame = replyDataFrame.append(tempDataFame, ignore_index = True)\n",
    "        #replyDataFrame = replyDataFrame.append(pd.DataFrame(newDataRow, columns = [\"target\", \"ids\", \"date\", \"flag\", \"user\", \"text\"]),ignore_index = True)\n",
    "        #break\n",
    "    #print(\"{} Finale Dataframe \\n\".format(iterator) + str(replyDataFrame.head()))\n",
    "    iterator += 1\n"
   ]
  },
  {
   "cell_type": "code",
   "execution_count": 5,
   "id": "f7c9a78f-de0b-451a-bd3a-f2297741dd4f",
   "metadata": {},
   "outputs": [
    {
     "name": "stdout",
     "output_type": "stream",
     "text": [
      "6419\n",
      "(6419, 6)\n",
      "  target              tweetid        date      time      user  \\\n",
      "0   None  1515588838562971650  2022-04-17  07:11:52  38150247   \n",
      "1   None  1514644785818058757  2022-04-14  16:40:32  38150247   \n",
      "2   None  1514291545742184451  2022-04-13  17:16:53  38150247   \n",
      "3   None  1514256817613905929  2022-04-13  14:58:53  38150247   \n",
      "4   None  1513955069867274245  2022-04-12  18:59:51  38150247   \n",
      "\n",
      "                                                text  \n",
      "0  RT @Bundeskanzler: Ich wünsche Ihnen und Ihren...  \n",
      "1  RT @Bundeskanzler: Meine Solidarität gilt @Kar...  \n",
      "2  RT @Bundeskanzler: Sie haben Hilfe organisiert...  \n",
      "3  RT @Bundeskanzler: Verantwortung übernehmen he...  \n",
      "4  RT @Bundeskanzler: Die Sanktionen gegen #Russl...  \n"
     ]
    }
   ],
   "source": [
    "#print(dir(replyDataFrame))\n",
    "print(len(df))\n",
    "print(df.shape)\n",
    "print(df.head())"
   ]
  },
  {
   "cell_type": "code",
   "execution_count": null,
   "id": "8b8ae462-4e9a-449c-9197-c07f76d94530",
   "metadata": {},
   "outputs": [],
   "source": []
  },
  {
   "cell_type": "code",
   "execution_count": 6,
   "id": "de043de3",
   "metadata": {},
   "outputs": [
    {
     "data": {
      "text/plain": [
       "<AxesSubplot:xlabel='date'>"
      ]
     },
     "execution_count": 6,
     "metadata": {},
     "output_type": "execute_result"
    },
    {
     "data": {
      "image/png": "[encoded data removed]",
      "text/plain": [
       "<Figure size 432x288 with 1 Axes>"
      ]
     },
     "metadata": {
      "needs_background": "light"
     },
     "output_type": "display_data"
    },
    {
     "data": {
      "image/png": "[encoded data removed]",
      "text/plain": [
       "<Figure size 432x288 with 1 Axes>"
      ]
     },
     "metadata": {
      "needs_background": "light"
     },
     "output_type": "display_data"
    },
    {
     "data": {
      "image/png": "[encoded data removed]",
      "text/plain": [
       "<Figure size 432x288 with 1 Axes>"
      ]
     },
     "metadata": {
      "needs_background": "light"
     },
     "output_type": "display_data"
    }
   ],
   "source": [
    "import matplotlib.pyplot as plt\n",
    "#Visualize Data\n",
    "\n",
    "df[\"date\"] = df[\"date\"].astype(\"datetime64\")\n",
    "\n",
    "df.groupby(df[\"date\"].dt.year).count().plot(kind=\"bar\")\n",
    "df.groupby([df[\"date\"].dt.year, df[\"date\"].dt.month]).count().plot(kind=\"bar\")\n",
    "df.groupby(df[\"date\"].dt.day).count().plot(kind=\"bar\")"
   ]
  },
  {
   "cell_type": "code",
   "execution_count": null,
   "id": "d1fe2b5a",
   "metadata": {},
   "outputs": [],
   "source": [
    "# Date in format bringen\n",
    "df.loc[0, 'date']\n",
    "df['date'] = pd.to_datetime(df['date'], format='%Y-%m-%d')\n",
    "df['date']\n",
    "df.loc[0, 'date'].day_name()\n",
    "\n",
    "df['DayOfWeek'] = df['date'].dt.day_name()\n",
    "df"
   ]
  },
  {
   "cell_type": "code",
   "execution_count": null,
   "id": "67259588",
   "metadata": {},
   "outputs": [],
   "source": [
    "# Größter und kleinster Wert in date\n",
    "print(df['date'].min())\n",
    "print(df['date'].max())"
   ]
  },
  {
   "cell_type": "code",
   "execution_count": null,
   "id": "95de84ea",
   "metadata": {},
   "outputs": [],
   "source": [
    "# Zeit zwischen zwei dates\n",
    "print(df['date'].max()-df['date'].min())"
   ]
  },
  {
   "cell_type": "code",
   "execution_count": null,
   "id": "6d7fac2f",
   "metadata": {},
   "outputs": [],
   "source": [
    "# Alle tweets in bestimmten Zeitraum\n",
    "#filter = (df['date'] < pd.to_datetime('2021-12-31')) & (df['date'] > pd.to_datetime('2021-01-01'))\n",
    "filter = (df['data'])\n",
    "df.loc[filter]\n",
    "\n"
   ]
  },
  {
   "cell_type": "code",
   "execution_count": null,
   "id": "99b2e083",
   "metadata": {},
   "outputs": [],
   "source": [
    "df.set_index('date', inplace=True)\n",
    "df"
   ]
  },
  {
   "cell_type": "code",
   "execution_count": null,
   "id": "01842576",
   "metadata": {},
   "outputs": [],
   "source": [
    "# Alle Tweets in 2019\n",
    "df.loc['2019-01']\n",
    "# Alle Tweets in 2019 im Januar\n",
    "df.loc['2019-01']"
   ]
  },
  {
   "cell_type": "code",
   "execution_count": null,
   "id": "a8b76f71",
   "metadata": {},
   "outputs": [],
   "source": [
    "df['index'].plot()"
   ]
  },
  {
   "cell_type": "code",
   "execution_count": null,
   "id": "2d4a9b72",
   "metadata": {},
   "outputs": [],
   "source": []
  }
 ],
 "metadata": {
  "kernelspec": {
   "display_name": "Python 3 (ipykernel)",
   "language": "python",
   "name": "python3"
  },
  "language_info": {
   "codemirror_mode": {
    "name": "ipython",
    "version": 3
   },
   "file_extension": ".py",
   "mimetype": "text/x-python",
   "name": "python",
   "nbconvert_exporter": "python",
   "pygments_lexer": "ipython3",
   "version": "3.9.7"
  }
 },
 "nbformat": 4,
 "nbformat_minor": 5
}
