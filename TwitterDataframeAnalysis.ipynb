{
 "cells": [
  {
   "cell_type": "code",
   "execution_count": null,
   "id": "22e3e693-b9e9-4d3a-8583-e15f040e6252",
   "metadata": {},
   "outputs": [],
   "source": [
    "import streamlit as st\n",
    "import jsonlines\n",
    "import random\n",
    "import pandas as pd\n",
    "import json\n",
    "import fileinput\n",
    "import numpy as np\n",
    "from pprint import pprint"
   ]
  },
  {
   "cell_type": "code",
   "execution_count": null,
   "id": "b2a8e91d-6e0b-42d7-b340-141f503131fd",
   "metadata": {},
   "outputs": [],
   "source": [
    "#Importing Dataset\n",
    "olafScholzJsonLines = jsonlines.open(\"OlafScholz.jl\")\n",
    "olafScholzTwitter = pd.read_json(\"OlafScholz.jl\", lines = True)\n",
    "\n",
    "#First view of given Dataset\n",
    "print(\"Datensatzlänge: \" + str(olafScholzTwitter.info()))\n",
    "print(olafScholzTwitter.head())"
   ]
  },
  {
   "cell_type": "code",
   "execution_count": null,
   "id": "25271d17-5b2c-4e1d-9044-d2c59f6fa788",
   "metadata": {},
   "outputs": [],
   "source": [
    "#Analyzin Dictionarys\n",
    "print(\"Response Metadaten: \" + str(olafScholzTwitter[\"response\"][0].keys()))\n",
    "ResponseKeys = olafScholzTwitter[\"response\"][0].keys()\n",
    "print(str(ResponseKeys)+\"\\n\")\n",
    "for Key in ResponseKeys:\n",
    "    print(\"Type of of Response Key {}: \".format(Key) + str(type(olafScholzTwitter[\"response\"][0][Key])))\n",
    "    #print(\"{}-Metadaten: \".format(Key) + str(olafScholzTwitter[\"response\"][0][Key]))"
   ]
  },
  {
   "cell_type": "code",
   "execution_count": null,
   "id": "a5fced9a-5c71-426e-bb4c-94e25c8bb05f",
   "metadata": {},
   "outputs": [],
   "source": [
    "#print(olafScholzTwitter[\"response\"][0].len)\n",
    "#print(\"---\")\n",
    "#Starting to investigate Dataset\n",
    "#print(olafScholzTwitter.describe())\n",
    "#print(type(olafScholzTwitter))\n",
    "#print(olafScholzTwitter.keys())\n",
    "#for key in olafScholzTwitter:\n",
    "#    print(\"{} : {}\".format(key, olafScholzTwitter[key]))\n",
    "#    print(\"{}\".format(key) + str(type(olafScholzTwitter[key])))\n",
    "    "
   ]
  },
  {
   "cell_type": "code",
   "execution_count": null,
   "id": "dbc552a8-1f27-4ffa-8875-1556e474bcf9",
   "metadata": {},
   "outputs": [],
   "source": [
    "#Block for testing Dataset and figuring out Key parameters, comment out before finaly running to get propper result\n",
    "\"\"\"\n",
    "for line in olafScholzJsonLines:\n",
    "    #print(line)\n",
    "    keyResponse = line[\"response\"]\n",
    "    print(\"Response-Type:\" + str(type(keyResponse)))\n",
    "    print(\"Response-Keys:\" + str(keyResponse.keys()))\n",
    "    \n",
    "    for key in keyResponse:\n",
    "        print(type(keyResponse[key]))\n",
    "        #pprint(keyResponse[key])\n",
    "        #print(\"{}-Metadaten: \".format(key) + str(keyResponse[key].keys()))\n",
    "    print(\"Includes-Metadaten: \" + str(keyResponse[\"includes\"].keys())+ \"\\n\")\n",
    " \n",
    "    print(\"Includes-Keys:\" + str(keyResponse[\"includes\"][\"users\"][0].keys())+\"\\n\")\n",
    "    #pprint(\"Example Includes:\" +\"\\n\" + str(keyResponse[\"includes\"][\"users\"])+\"\\n\")\n",
    "        \n",
    "    print(\"Meta-Metadaten: \" + str(keyResponse[\"meta\"].keys())+ \"\\n\")\n",
    "    data = keyResponse[\"data\"]\n",
    "    print(\"Type-Data: \" + str(type(data))+ \"\\n\")\n",
    "    print(str(data[0]) + \"\\n\")\n",
    "    print(\"Type-Data[0]: \" + str(type(data[0])) + \"\\n\")\n",
    "    print(\"data[0].keys(): \" + str(data[0].keys()) + \"\\n\")\n",
    "    #print(dir(data[0].keys()))\n",
    "    print(\"len(data[0].keys()): \" + str(len(data[0].keys())) + \"\\n\")\n",
    "    break\n",
    "\"\"\""
   ]
  },
  {
   "cell_type": "code",
   "execution_count": null,
   "id": "ed117af7-5b00-4ff1-970b-2e6eb60fa65b",
   "metadata": {},
   "outputs": [],
   "source": [
    "# Reply Dataframe\n",
    "# Importing Data into final Dataframe for ML\n",
    "replyDataFrame = pd.DataFrame(columns = [\"target\", \"ids\", \"date\", \"flag\", \"user\", \"text\"])\n",
    "print(replyDataFrame.head())\n",
    "#dir(replyDataFrame)\n",
    "iterator = 0 #Debugging Counter\n",
    "for line in olafScholzJsonLines:\n",
    "    keyResponse = line[\"response\"]\n",
    "    data = keyResponse[\"data\"]\n",
    "    #print(\"Iterator {} has length: \".format(iterator) + str(len(data)))\n",
    "    #pprint(data)\n",
    "    #[\"target\", \"ids\", \"date\", \"flag\", \"user\", \"text\"]\n",
    "    newDataRow = [None, None, None, None, None, None]\n",
    "    #print(line.keys())\n",
    "    userName = line[\"account_name\"]\n",
    "    #print(\"User Name: \" + str(line[\"account_name\"])+\"\\n\")\n",
    "    newDataRow[4] = userName\n",
    "    keyResponse = line[\"response\"]\n",
    "    data = keyResponse[\"data\"]\n",
    "\n",
    "\n",
    "    for tweet in data:\n",
    "        #print(\"Tweet-ID: \" + tweet[\"id\"])\n",
    "        #print(str(tweet) + \"\\n\")\n",
    "        tweetTarget = None\n",
    "        tweetID = tweet[\"id\"]\n",
    "        authorID = tweet[\"author_id\"]\n",
    "        tweetDate = tweet[\"created_at\"][0:10]\n",
    "        tweetFlag = \"NO_QUERY\"\n",
    "        tweetText = tweet[\"text\"]\n",
    "        #tweetAuthor = tweet[\"context_annotations\"]\n",
    "        #tweetAuthor = tweet[\"context_annotations\"]\n",
    "        #tweetAuthor = userName\n",
    "        #print(type(tweetAuthor))\n",
    "        \n",
    "        newDataRow[0] = tweetTarget\n",
    "        newDataRow[1] = tweetID\n",
    "        newDataRow[2] = tweetDate\n",
    "        newDataRow[3] = tweetFlag\n",
    "        #newDataRow[4] = tweetAuthor\n",
    "        newDataRow[5] = tweetText\n",
    "        #pprint(newDataRow)\n",
    "        replyDataFrame.loc[len(replyDataFrame)] = newDataRow\n",
    "        #tempDataFrame = pd.DataFrame(newDataRow, columns[\"target\", \"ids\", \"date\", \"flag\", \"user\", \"text\"])\n",
    "        #replyDataFrame = replyDataFrame.append(tempDataFame, ignore_index = True)\n",
    "        #replyDataFrame = replyDataFrame.append(pd.DataFrame(newDataRow, columns = [\"target\", \"ids\", \"date\", \"flag\", \"user\", \"text\"]),ignore_index = True)\n",
    "        #break\n",
    "    #print(\"{} Finale Dataframe \\n\".format(iterator) + str(replyDataFrame.head()))\n",
    "    iterator += 1 \n"
   ]
  },
  {
   "cell_type": "code",
   "execution_count": null,
   "id": "f7c9a78f-de0b-451a-bd3a-f2297741dd4f",
   "metadata": {},
   "outputs": [],
   "source": [
    "#print(dir(replyDataFrame))\n",
    "print(len(replyDataFrame))\n",
    "print(replyDataFrame.shape)\n",
    "print(replyDataFrame.head())"
   ]
  },
  {
   "cell_type": "code",
   "execution_count": null,
   "id": "4692e308-20ee-4244-958c-eb55099d86b3",
   "metadata": {},
   "outputs": [],
   "source": [
    "#print(replyDataFrame.query(\"date < '2022-01-01'\").head())\n",
    "#print(replyDataFrame.query(\"date < '2022-01-01'\").count())\n",
    "#print(replyDataFrame.query(\"text\"[0:18] == \"RT @Bundeskanzler:\").head())\n",
    "print(\"----\")\n",
    "#mask = replyDataFrame[\"text\"].str.contains(\"RT @Bundeskanzler:\").head()\n",
    "#print(replyDataFrame[mask].head())\n",
    "#print(replyDataFrame[replyDataFrame[\"text\"].str.contains(\"RT @Bundeskanzler:\")].head())\n",
    "#print(replyDataFrame[replyDataFrame[\"text\"].str.contains(\"RT @Bundeskanzler:\")].count())\n",
    "print(replyDataFrame[replyDataFrame[\"text\"].str.contains(\"RT @Bundeskanzler:\")].sort_values(\"date\",ascending = \"true\").head())\n",
    "# -> Proven that first Retweet was after 2022-02-14"
   ]
  },
  {
   "cell_type": "code",
   "execution_count": null,
   "id": "4f26ce0b-1710-4891-b1a1-cd09136caa65",
   "metadata": {},
   "outputs": [],
   "source": [
    "#testing\n",
    "print(replyDataFrame[\"text\"].str.contains(\"RT @Bundeskanzler\").head())\n",
    "print(replyDataFrame[\"text\"].str.contains(\"RT @Bundeskanzler\").count())"
   ]
  },
  {
   "cell_type": "code",
   "execution_count": null,
   "id": "2aecd9a0-d7bc-4a37-98fa-b8ab6f6ac397",
   "metadata": {},
   "outputs": [],
   "source": [
    "#cleansedTweetDF = replyDataFrame[replyDataFrame[\"text\"].str.contains(\"RT @Bundeskanzler:\") or replyDataFrame[\"text\"].str.contains(\"!RT @\") ]\n",
    "print(\"Size of dataframe :\\n\"+ str(replyDataFrame.count())+\"\\n----\")\n",
    "maskBundesKanz = replyDataFrame[\"text\"].str.contains(\"RT @Bundeskanzler:\")\n",
    "maskNoRT = replyDataFrame[\"text\"].str.contains(\"RT @\")==False\n",
    "print(\"Size of dataframe with RT @Bundeskanzler:\\n\" + str(replyDataFrame[maskBundesKanz].count())+\"\\n----\")\n",
    "print(\"Size of dataframe without RT @:\\n\" + str(replyDataFrame[maskNoRT].count())+\"\\n----\")\n",
    "#cleansedTweetDF contains all Tweets posted directly by Olaf before or after being Kanzler\n",
    "cleansedTweetDF = replyDataFrame[maskBundesKanz | maskNoRT]\n",
    "print(\"Size of cleansedTweetDF @:\\n\" + str(cleansedTweetDF.count())+\"\\n----\")\n",
    "print(cleansedTweetDF.head())\n",
    "#cleansedTweetDF has \"RT @Bundeskanzler:\" still in the tweet. To not have any issues with ML we removed that part of the Tweet in the following parts"
   ]
  },
  {
   "cell_type": "code",
   "execution_count": null,
   "id": "283b4642-66fb-429b-94e3-33806aa19d4a",
   "metadata": {},
   "outputs": [],
   "source": [
    "# Removing the Text \"RT @Bundeskanzler:\" from the text\n",
    "print(\"ReplyDataframe: \\n\" + str(replyDataFrame[maskBundesKanz].count()))\n",
    "cleansedAtBundKanzDF = replyDataFrame[maskBundesKanz].copy()\n",
    "#print(str(cleansedAtBundKanzDF[\"text\"]))\n",
    "cleansedAtBundKanzDF.text = cleansedAtBundKanzDF.text.str.strip(\"RT @Bundeskanzler: \")\n",
    "print(cleansedAtBundKanzDF.head())"
   ]
  },
  {
   "cell_type": "code",
   "execution_count": null,
   "id": "a14014b0-f2da-4632-9034-a207467e4efc",
   "metadata": {},
   "outputs": [],
   "source": [
    "#appending the sliced versions to the Dataframe and resulting in the expected 4119 Tweets\n",
    "cleansedTweetDFShort = replyDataFrame[maskNoRT].append(cleansedAtBundKanzDF)\n",
    "print(cleansedTweetDFShort.count())\n",
    "print(cleansedTweetDFShort.sort_values(\"date\",ascending = False).head())\n",
    "\n",
    "\n",
    "\n"
   ]
  }
 ],
 "metadata": {
  "kernelspec": {
   "display_name": "Python 3 (ipykernel)",
   "language": "python",
   "name": "python3"
  },
  "language_info": {
   "codemirror_mode": {
    "name": "ipython",
    "version": 3
   },
   "file_extension": ".py",
   "mimetype": "text/x-python",
   "name": "python",
   "nbconvert_exporter": "python",
   "pygments_lexer": "ipython3",
   "version": "3.9.7"
  }
 },
 "nbformat": 4,
 "nbformat_minor": 5
}
