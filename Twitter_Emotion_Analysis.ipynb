{
 "cells": [
  {
   "cell_type": "code",
   "execution_count": 1,
   "id": "f8cf5ec9",
   "metadata": {},
   "outputs": [
    {
     "name": "stderr",
     "output_type": "stream",
     "text": [
      "2022-06-08 10:03:02.363 INFO    numexpr.utils: NumExpr defaulting to 8 threads.\n"
     ]
    }
   ],
   "source": [
    "import streamlit as st\n",
    "import jsonlines\n",
    "import random\n",
    "import pandas as pd\n",
    "import seaborn as sns\n",
    "import json\n",
    "import fileinput\n",
    "import numpy as np\n",
    "from pprint import pprint\n",
    "from wordcloud import WordCloud\n",
    "from textblob_de import TextBlobDE as TextBlob\n",
    "import re\n",
    "import matplotlib.pyplot as plt\n",
    "%matplotlib inline\n",
    "from collections import defaultdict\n",
    "from datetime import date\n",
    "import re\n",
    "import string\n",
    "import warnings\n",
    "warnings.filterwarnings(\"ignore\", category=DeprecationWarning)"
   ]
  },
  {
   "cell_type": "code",
   "execution_count": 2,
   "id": "f46bcc35",
   "metadata": {},
   "outputs": [
    {
     "name": "stdout",
     "output_type": "stream",
     "text": [
      "<class 'pandas.core.frame.DataFrame'>\n",
      "RangeIndex: 65 entries, 0 to 64\n",
      "Data columns (total 5 columns):\n",
      " #   Column        Non-Null Count  Dtype \n",
      "---  ------        --------------  ----- \n",
      " 0   http_status   65 non-null     int64 \n",
      " 1   account_name  65 non-null     object\n",
      " 2   account_data  65 non-null     object\n",
      " 3   params        65 non-null     object\n",
      " 4   response      65 non-null     object\n",
      "dtypes: int64(1), object(4)\n",
      "memory usage: 2.7+ KB\n",
      "Datensatzlänge: None\n",
      "   http_status account_name  \\\n",
      "0          200   OlafScholz   \n",
      "1          200   OlafScholz   \n",
      "2          200   OlafScholz   \n",
      "3          200   OlafScholz   \n",
      "4          200   OlafScholz   \n",
      "\n",
      "                                        account_data  \\\n",
      "0  {'Name': 'Scholz, Olaf', 'Partei': 'SPD', 'id'...   \n",
      "1  {'Name': 'Scholz, Olaf', 'Partei': 'SPD', 'id'...   \n",
      "2  {'Name': 'Scholz, Olaf', 'Partei': 'SPD', 'id'...   \n",
      "3  {'Name': 'Scholz, Olaf', 'Partei': 'SPD', 'id'...   \n",
      "4  {'Name': 'Scholz, Olaf', 'Partei': 'SPD', 'id'...   \n",
      "\n",
      "                                              params  \\\n",
      "0  [[query, from:OlafScholz], [max_results, 100],...   \n",
      "1  [[query, from:OlafScholz], [max_results, 100],...   \n",
      "2  [[query, from:OlafScholz], [max_results, 100],...   \n",
      "3  [[query, from:OlafScholz], [max_results, 100],...   \n",
      "4  [[query, from:OlafScholz], [max_results, 100],...   \n",
      "\n",
      "                                            response  \n",
      "0  {'data': [{'context_annotations': [{'domain': ...  \n",
      "1  {'data': [{'in_reply_to_user_id': '38150247', ...  \n",
      "2  {'data': [{'conversation_id': '144576374098134...  \n",
      "3  {'data': [{'created_at': '2021-09-02T13:33:12....  \n",
      "4  {'data': [{'conversation_id': '141999599421797...  \n"
     ]
    }
   ],
   "source": [
    "#Importing Dataset\n",
    "olafScholzJsonLines = jsonlines.open(\"OlafScholz.jl\")\n",
    "\n",
    "olafScholzTwitter = pd.read_json(\"OlafScholz.jl\", lines = True)\n",
    "print(\"Datensatzlänge: \" + str(olafScholzTwitter.info()))\n",
    "\n",
    "print(olafScholzTwitter.head())"
   ]
  },
  {
   "cell_type": "code",
   "execution_count": 3,
   "id": "9db1b6a0",
   "metadata": {},
   "outputs": [
    {
     "name": "stdout",
     "output_type": "stream",
     "text": [
      "              datetime                                               text\n",
      "0  2022-04-17 07:11:52  RT @Bundeskanzler: Ich wünsche Ihnen und Ihren...\n",
      "1  2022-04-14 16:40:32  RT @Bundeskanzler: Meine Solidarität gilt @Kar...\n",
      "2  2022-04-13 17:16:53  RT @Bundeskanzler: Sie haben Hilfe organisiert...\n",
      "3  2022-04-13 14:58:53  RT @Bundeskanzler: Verantwortung übernehmen he...\n",
      "4  2022-04-12 18:59:51  RT @Bundeskanzler: Die Sanktionen gegen #Russl...\n"
     ]
    }
   ],
   "source": [
    "# Reply Dataframe\n",
    "# Importing Data into final Dataframe for ML\n",
    "df = pd.DataFrame(columns = [\"datetime\", \"text\"])\n",
    "iterator = 0\n",
    "\n",
    "for line in olafScholzJsonLines:\n",
    "    keyResponse = line[\"response\"]\n",
    "    data = keyResponse[\"data\"]\n",
    "    newDataRow = [None, None]\n",
    "    userName = line[\"account_name\"]\n",
    "    keyResponse = line[\"response\"]\n",
    "    data = keyResponse[\"data\"]\n",
    "\n",
    "\n",
    "    for tweet in data:\n",
    "\n",
    "        tweetTarget = 1\n",
    "       \n",
    "        tweetDate = tweet[\"created_at\"][0:10]+\" \"+tweet[\"created_at\"][11:19]\n",
    "        tweetText = tweet[\"text\"]  \n",
    "        \n",
    "        newDataRow[0] = tweetDate\n",
    "        newDataRow[1] = tweetText\n",
    "        df.loc[len(df)] = newDataRow\n",
    "    iterator += 1\n",
    "\n",
    "print(df.head())"
   ]
  },
  {
   "cell_type": "code",
   "execution_count": 8,
   "id": "0e0db448",
   "metadata": {},
   "outputs": [
    {
     "name": "stdout",
     "output_type": "stream",
     "text": [
      "Size of dataframe :\n",
      "datetime    6419\n",
      "text        6419\n",
      "dtype: int64\n",
      "----\n",
      "Size of dataframe with RT @Bundeskanzler:\n",
      "datetime    48\n",
      "text        48\n",
      "dtype: int64\n",
      "----\n",
      "Size of dataframe without RT @:\n",
      "datetime    4071\n",
      "text        4071\n",
      "dtype: int64\n",
      "----\n",
      "Size of cleansedTweetDF @:\n",
      "datetime    4119\n",
      "text        4119\n",
      "dtype: int64\n",
      "----\n",
      "              datetime                                               text\n",
      "0  2022-04-17 07:11:52  RT @Bundeskanzler: Ich wünsche Ihnen und Ihren...\n",
      "1  2022-04-14 16:40:32  RT @Bundeskanzler: Meine Solidarität gilt @Kar...\n",
      "2  2022-04-13 17:16:53  RT @Bundeskanzler: Sie haben Hilfe organisiert...\n",
      "3  2022-04-13 14:58:53  RT @Bundeskanzler: Verantwortung übernehmen he...\n",
      "4  2022-04-12 18:59:51  RT @Bundeskanzler: Die Sanktionen gegen #Russl...\n"
     ]
    }
   ],
   "source": [
    "#cleansedTweetDF = replyDataFrame[replyDataFrame[\"text\"].str.contains(\"RT @Bundeskanzler:\") or replyDataFrame[\"text\"].str.contains(\"!RT @\") ]\n",
    "print(\"Size of dataframe :\\n\"+ str(df.count())+\"\\n----\")\n",
    "maskBundesKanz = df[\"text\"].str.contains(\"RT @Bundeskanzler:\")\n",
    "maskNoRT = df[\"text\"].str.contains(\"RT @\")==False\n",
    "print(\"Size of dataframe with RT @Bundeskanzler:\\n\" + str(df[maskBundesKanz].count())+\"\\n----\")\n",
    "print(\"Size of dataframe without RT @:\\n\" + str(df[maskNoRT].count())+\"\\n----\")\n",
    "#cleansedTweetDF contains all Tweets posted directly by Olaf before or after being Kanzler\n",
    "cleansedTweetDF = df[maskBundesKanz | maskNoRT]\n",
    "print(\"Size of cleansedTweetDF @:\\n\" + str(cleansedTweetDF.count())+\"\\n----\")\n",
    "print(df.head())\n",
    "#cleansedTweetDF has \"RT @Bundeskanzler:\" still in the tweet. To not have any issues with ML we removed that part of the Tweet in the following parts"
   ]
  },
  {
   "cell_type": "code",
   "execution_count": 9,
   "id": "3c0ff57d",
   "metadata": {},
   "outputs": [
    {
     "name": "stdout",
     "output_type": "stream",
     "text": [
      "ReplyDataframe: \n",
      "datetime    48\n",
      "text        48\n",
      "dtype: int64\n",
      "              datetime                                               text\n",
      "0  2022-04-17 07:11:52  Ich wünsche Ihnen und Ihren Familien frohe #Os...\n",
      "1  2022-04-14 16:40:32  Meine Solidarität gilt @Karl_Lauterbach: Jeder...\n",
      "2  2022-04-13 17:16:53  Sie haben Hilfe organisiert, Kräfte gebündelt ...\n",
      "3  2022-04-13 14:58:53  Verantwortung übernehmen heißt: Deutschland li...\n",
      "4  2022-04-12 18:59:51  Die Sanktionen gegen #Russland sind notwendig ...\n"
     ]
    }
   ],
   "source": [
    "# Removing the Text \\\"RT @Bundeskanzler:\\\" from the text\\n\n",
    "print(\"ReplyDataframe: \\n\" + str(df[maskBundesKanz].count()))\n",
    "cleansedAtBundKanzDF = df[maskBundesKanz].copy()\n",
    "cleansedAtBundKanzDF.text = df.text.str.strip(\"RT @Bundeskanzler: \")\n",
    "print(cleansedAtBundKanzDF.head())  "
   ]
  }
 ],
 "metadata": {
  "kernelspec": {
   "display_name": "Python 3 (ipykernel)",
   "language": "python",
   "name": "python3"
  },
  "language_info": {
   "codemirror_mode": {
    "name": "ipython",
    "version": 3
   },
   "file_extension": ".py",
   "mimetype": "text/x-python",
   "name": "python",
   "nbconvert_exporter": "python",
   "pygments_lexer": "ipython3",
   "version": "3.9.7"
  }
 },
 "nbformat": 4,
 "nbformat_minor": 5
}
