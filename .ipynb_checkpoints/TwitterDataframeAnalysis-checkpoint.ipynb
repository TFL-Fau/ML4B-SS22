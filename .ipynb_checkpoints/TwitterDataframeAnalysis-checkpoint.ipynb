{
 "cells": [
  {
   "cell_type": "code",
   "execution_count": 2,
   "id": "22e3e693-b9e9-4d3a-8583-e15f040e6252",
   "metadata": {},
   "outputs": [
    {
     "name": "stderr",
     "output_type": "stream",
     "text": [
      "2022-05-22 14:57:13.937 INFO    numexpr.utils: NumExpr defaulting to 8 threads.\n"
     ]
    }
   ],
   "source": [
    "import streamlit as st\n",
    "import jsonlines\n",
    "import random\n",
    "import pandas as pd\n",
    "import json\n",
    "import fileinput\n",
    "import numpy as np\n",
    "from pprint import pprint"
   ]
  },
  {
   "cell_type": "code",
   "execution_count": 3,
   "id": "b2a8e91d-6e0b-42d7-b340-141f503131fd",
   "metadata": {},
   "outputs": [
    {
     "name": "stdout",
     "output_type": "stream",
     "text": [
      "<class 'pandas.core.frame.DataFrame'>\n",
      "RangeIndex: 65 entries, 0 to 64\n",
      "Data columns (total 5 columns):\n",
      " #   Column        Non-Null Count  Dtype \n",
      "---  ------        --------------  ----- \n",
      " 0   http_status   65 non-null     int64 \n",
      " 1   account_name  65 non-null     object\n",
      " 2   account_data  65 non-null     object\n",
      " 3   params        65 non-null     object\n",
      " 4   response      65 non-null     object\n",
      "dtypes: int64(1), object(4)\n",
      "memory usage: 2.7+ KB\n",
      "Datensatzlänge: None\n",
      "   http_status account_name  \\\n",
      "0          200   OlafScholz   \n",
      "1          200   OlafScholz   \n",
      "2          200   OlafScholz   \n",
      "3          200   OlafScholz   \n",
      "4          200   OlafScholz   \n",
      "\n",
      "                                        account_data  \\\n",
      "0  {'Name': 'Scholz, Olaf', 'Partei': 'SPD', 'id'...   \n",
      "1  {'Name': 'Scholz, Olaf', 'Partei': 'SPD', 'id'...   \n",
      "2  {'Name': 'Scholz, Olaf', 'Partei': 'SPD', 'id'...   \n",
      "3  {'Name': 'Scholz, Olaf', 'Partei': 'SPD', 'id'...   \n",
      "4  {'Name': 'Scholz, Olaf', 'Partei': 'SPD', 'id'...   \n",
      "\n",
      "                                              params  \\\n",
      "0  [[query, from:OlafScholz], [max_results, 100],...   \n",
      "1  [[query, from:OlafScholz], [max_results, 100],...   \n",
      "2  [[query, from:OlafScholz], [max_results, 100],...   \n",
      "3  [[query, from:OlafScholz], [max_results, 100],...   \n",
      "4  [[query, from:OlafScholz], [max_results, 100],...   \n",
      "\n",
      "                                            response  \n",
      "0  {'data': [{'context_annotations': [{'domain': ...  \n",
      "1  {'data': [{'in_reply_to_user_id': '38150247', ...  \n",
      "2  {'data': [{'conversation_id': '144576374098134...  \n",
      "3  {'data': [{'created_at': '2021-09-02T13:33:12....  \n",
      "4  {'data': [{'conversation_id': '141999599421797...  \n"
     ]
    }
   ],
   "source": [
    "#Importing Dataset\n",
    "olafScholzJsonLines = jsonlines.open(\"OlafScholz.jl\")\n",
    "\n",
    "olafScholzTwitter = pd.read_json(\"OlafScholz.jl\", lines = True)\n",
    "print(\"Datensatzlänge: \" + str(olafScholzTwitter.info()))\n",
    "\n",
    "print(olafScholzTwitter.head())\n"
   ]
  },
  {
   "cell_type": "code",
   "execution_count": 4,
   "id": "25271d17-5b2c-4e1d-9044-d2c59f6fa788",
   "metadata": {},
   "outputs": [
    {
     "ename": "SyntaxError",
     "evalue": "EOL while scanning string literal (221171029.py, line 7)",
     "output_type": "error",
     "traceback": [
      "\u001b[0;36m  File \u001b[0;32m\"/var/folders/yl/dt_q929j1hg64nfh_lmhldhw0000gn/T/ipykernel_43621/221171029.py\"\u001b[0;36m, line \u001b[0;32m7\u001b[0m\n\u001b[0;31m    \"\"\"\"\u001b[0m\n\u001b[0m        \n^\u001b[0m\n\u001b[0;31mSyntaxError\u001b[0m\u001b[0;31m:\u001b[0m EOL while scanning string literal\n"
     ]
    }
   ],
   "source": [
    "\"\"\"\"\n",
    "print(\"Response Metadaten: \" + str(olafScholzTwitter[\"response\"][0].keys()))\n",
    "print(olafScholzTwitter[\"params\"][0].keys())\n",
    "for Key in ResponseKeys:\n",
    "    print(type(olafScholzTwitter[\"response\"][0][Key]))\n",
    "    #print(\"{}-Metadaten: \".format(Key) + str(olafScholzTwitter[\"response\"][0][Key]))\n",
    "\"\"\"\""
   ]
  },
  {
   "cell_type": "code",
   "execution_count": null,
   "id": "10446120",
   "metadata": {},
   "outputs": [],
   "source": [
    "#First Analysis of data from Olaf Scholz to get into the data\n",
    "\n",
    "file=\"Olafscholz.jl\"\n",
    "\n",
    "with jsonlines.open(file) as j:\n",
    "    for line in j:\n",
    "        print(type(line))\n",
    "        print(line.keys())\n",
    "        print(\"-\"*100)\n",
    "        #pprint(line) #Jede Zeile ist ein dictionary\n",
    "        \n",
    "        pprint(type(line['response']))\n",
    "        print(line['response'].keys())\n",
    "        #print(\"number if tweets:\", len(data))\n",
    "        pprint(data[0])\n",
    "        \n",
    "        break\n",
    "        #print(\"-\"*100)\n",
    "        #pprint(line['account_data'])\n",
    "        #print(\"-\"*100)\n",
    "        #pprint(line['params'])\n",
    "        #print(line.keys())\n",
    "        #print(\"Account Name:\", line['account_name'])\n",
    "        #print(\"-\"*100)\n",
    "        #print(\"Account_Data\", line['account_data'])\n",
    "        #print(\"-\"*100)\n",
    "        #type(line['response'])\n",
    "        #print(\"-\"*100)\n",
    "        #for i in line:\n",
    "        \n",
    "            #print(\"Response\", line['response'])\n",
    "           # print(\"-\"*100)\n",
    "            #break\n",
    "        #break\n",
    "        #print(\"Account_Data\", line['response'])\n",
    "        #print(\"Parameter\", line['params'])\n",
    "        #pprint(line['params'])\n",
    "        #print(\"-\"*100)\n",
    "        \n",
    "        #print(\"-\"*100)\n",
    "        #print(type(line['response']['data']))\n",
    "        #print(\"-\"*100)\n",
    "        #print(line['response'].keys())\n",
    "        #print(\"-\"*100)"
   ]
  },
  {
   "cell_type": "code",
   "execution_count": null,
   "id": "a5fced9a-5c71-426e-bb4c-94e25c8bb05f",
   "metadata": {},
   "outputs": [],
   "source": [
    "#print(olafScholzTwitter[\"response\"][0].len)\n",
    "#print(\"---\")\n",
    "#Starting to investigate Dataset\n",
    "#print(olafScholzTwitter.describe())\n",
    "#print(type(olafScholzTwitter))\n",
    "#print(olafScholzTwitter.keys())\n",
    "#for key in olafScholzTwitter:\n",
    "#print(\"{} : {}\".format(key, olafScholzTwitter[key]))\n",
    "#print(\"{}\".format(key) + str(type(olafScholzTwitter[key])))\n",
    "    "
   ]
  },
  {
   "cell_type": "code",
   "execution_count": null,
   "id": "dbc552a8-1f27-4ffa-8875-1556e474bcf9",
   "metadata": {},
   "outputs": [],
   "source": [
    "\"\"\"\n",
    "for line in olafScholzJsonLines:\n",
    "    #print(line)\n",
    "    \n",
    "    keyResponse = line[\"response\"]\n",
    "    print(\"Response-Type:\" + str(type(keyResponse)))\n",
    "    print(\"Response-Keys:\" + str(keyResponse.keys()))\n",
    "    \n",
    "    for key in keyResponse:\n",
    "        print(type(keyResponse[key]))\n",
    "        #pprint(keyResponse[key])\n",
    "        #print(\"{}-Metadaten: \".format(key) + str(keyResponse[key].keys()))\n",
    "    print(\"Includes-Metadaten: \" + str(keyResponse[\"includes\"].keys())+ \"\\n\")\n",
    " \n",
    "    print(\"Includes-Keys:\" + str(keyResponse[\"includes\"][\"users\"][0].keys())+\"\\n\")\n",
    "    #pprint(\"Example Includes:\" +\"\\n\" + str(keyResponse[\"includes\"][\"users\"])+\"\\n\")\n",
    "        \n",
    "    print(\"Meta-Metadaten: \" + str(keyResponse[\"meta\"].keys())+ \"\\n\")\n",
    "    data = keyResponse[\"data\"]\n",
    "    print(\"Type-Data: \" + str(type(data))+ \"\\n\")\n",
    "    print(str(data[0]) + \"\\n\")\n",
    "    print(\"Type-Data[0]: \" + str(type(data[0])) + \"\\n\")\n",
    "    print(\"data[0].keys(): \" + str(data[0].keys()) + \"\\n\")\n",
    "    #print(dir(data[0].keys()))\n",
    "    print(\"len(data[0].keys()): \" + str(len(data[0].keys())) + \"\\n\")\n",
    "    break\n",
    "\"\"\""
   ]
  },
  {
   "cell_type": "code",
   "execution_count": null,
   "id": "ed117af7-5b00-4ff1-970b-2e6eb60fa65b",
   "metadata": {},
   "outputs": [],
   "source": [
    "# Reply Dataframe\n",
    "# Importing Data into final Dataframe for ML\n",
    "df = pd.DataFrame(columns = [\"target\", \"tweetid\", \"date\", \"time\", \"user\", \"text\"])\n",
    "print(df.head())\n",
    "#dir(replyDataFrame)\n",
    "iterator = 0\n",
    "\n",
    "for line in olafScholzJsonLines:\n",
    "    keyResponse = line[\"response\"]\n",
    "    data = keyResponse[\"data\"]\n",
    "    print(\"Iterator {} has length: \".format(iterator) + str(len(data)))\n",
    "    #pprint(data)\n",
    "    #[\"target\", \"ids\", \"date\", \"flag\", \"user\", \"text\"]\n",
    "    newDataRow = [None, None, None, None, None, None]\n",
    "    #print(line.keys())\n",
    "    userName = line[\"account_name\"]\n",
    "    #print(\"User Name: \" + str(line[\"account_name\"])+\"\\n\")\n",
    "    newDataRow[4] = userName\n",
    "    keyResponse = line[\"response\"]\n",
    "    data = keyResponse[\"data\"]\n",
    "\n",
    "\n",
    "    for tweet in data:\n",
    "        #print(\"Tweet-ID: \" + tweet[\"id\"])\n",
    "        #print(str(tweet) + \"\\n\")\n",
    "        tweetTarget = None\n",
    "        tweetID = tweet[\"id\"]\n",
    "        authorID = tweet[\"author_id\"]\n",
    "        tweetDate = tweet[\"created_at\"][0:10]\n",
    "        tweetTime = tweet[\"created_at\"][11:19]\n",
    "        #tweetFlag = \"NO_QUERY\"\n",
    "        tweetText = tweet[\"text\"]\n",
    "        #tweetAuthor = tweet[\"context_annotations\"]\n",
    "        #tweetAuthor = tweet[\"context_annotations\"]\n",
    "        #tweetAuthor = userName\n",
    "        #print(type(tweetAuthor))\n",
    "        \n",
    "        newDataRow[0] = tweetTarget\n",
    "        newDataRow[1] = tweetID\n",
    "        newDataRow[2] = tweetDate\n",
    "        newDataRow[3] = tweetTime\n",
    "        #newDataRow[4] = tweetFlag\n",
    "        newDataRow[4] = authorID\n",
    "        newDataRow[5] = tweetText\n",
    "        #newDataRow[4] = tweetAuthor\n",
    "        #pprint(newDataRow)\n",
    "        df.loc[len(df)] = newDataRow\n",
    "        #tempDataFrame = pd.DataFrame(newDataRow, columns[\"target\", \"ids\", \"date\", \"flag\", \"user\", \"text\"])\n",
    "        #replyDataFrame = replyDataFrame.append(tempDataFame, ignore_index = True)\n",
    "        #replyDataFrame = replyDataFrame.append(pd.DataFrame(newDataRow, columns = [\"target\", \"ids\", \"date\", \"flag\", \"user\", \"text\"]),ignore_index = True)\n",
    "        #break\n",
    "    #print(\"{} Finale Dataframe \\n\".format(iterator) + str(replyDataFrame.head()))\n",
    "    iterator += 1\n"
   ]
  },
  {
   "cell_type": "code",
   "execution_count": null,
   "id": "f7c9a78f-de0b-451a-bd3a-f2297741dd4f",
   "metadata": {},
   "outputs": [],
   "source": [
    "#print(dir(replyDataFrame))\n",
    "print(len(df))\n",
    "print(df.shape)\n",
    "print(df.head())"
   ]
  },
  {
   "cell_type": "code",
   "execution_count": null,
   "id": "8b8ae462-4e9a-449c-9197-c07f76d94530",
   "metadata": {},
   "outputs": [],
   "source": []
  },
  {
   "cell_type": "code",
   "execution_count": null,
   "id": "341138c5",
   "metadata": {},
   "outputs": [],
   "source": [
    "import matplotlib.pyplot as plt\n",
    "#Visualize Data\n",
    "\n",
    "#df[\"date\"] = df[\"date\"].astype(\"datetime64\")\n",
    "\n",
    "#df.groupby(df[\"date\"].dt.year).count().plot(kind=\"bar\")\n",
    "#df.groupby([df[\"date\"].dt.year, df[\"date\"].dt.month]).count().plot(kind=\"bar\")\n",
    "#df.groupby(df[\"date\"].dt.day).count().plot(kind=\"bar\")"
   ]
  },
  {
   "cell_type": "code",
   "execution_count": null,
   "id": "8a284406",
   "metadata": {},
   "outputs": [],
   "source": [
    "# Date in format bringen\n",
    "df.loc[0, 'date']\n",
    "df['date'] = pd.to_datetime(df['date'], format='%Y-%m-%d')\n",
    "df['date']\n",
    "df.loc[0, 'date'].day_name()\n",
    "\n",
    "df['DayOfWeek'] = df['date'].dt.day_name()\n",
    "df"
   ]
  },
  {
   "cell_type": "code",
   "execution_count": null,
   "id": "0efde544",
   "metadata": {},
   "outputs": [],
   "source": [
    "# Größter und kleinster Wert in date\n",
    "print(df['date'].min())\n",
    "print(df['date'].max())"
   ]
  },
  {
   "cell_type": "code",
   "execution_count": null,
   "id": "bfdeaa63",
   "metadata": {},
   "outputs": [],
   "source": [
    "# Zeit zwischen zwei dates\n",
    "print(df['date'].max()-df['date'].min())"
   ]
  },
  {
   "cell_type": "code",
   "execution_count": null,
   "id": "1300b916",
   "metadata": {},
   "outputs": [],
   "source": [
    "# Alle tweets in bestimmten Zeitraum\n",
    "filter = (df['date'] < pd.to_datetime('2021-12-31')) & (df['date'] > pd.to_datetime('2021-01-01'))\n",
    "df.loc[filter]\n",
    "\n"
   ]
  },
  {
   "cell_type": "code",
   "execution_count": null,
   "id": "6344d04e",
   "metadata": {},
   "outputs": [],
   "source": [
    "df.set_index('date', inplace=True)\n",
    "df"
   ]
  },
  {
   "cell_type": "code",
   "execution_count": null,
   "id": "e1cf25b0",
   "metadata": {},
   "outputs": [],
   "source": [
    "# Alle Tweets in 2019\n",
    "df.loc['2019-01']\n",
    "# Alle Tweets in 2019 im Januar\n",
    "df.loc['2019-01']"
   ]
  },
  {
   "cell_type": "code",
   "execution_count": null,
   "id": "8a085a83",
   "metadata": {},
   "outputs": [],
   "source": [
    "df['index'].plot()"
   ]
  },
  {
   "cell_type": "code",
   "execution_count": null,
   "id": "d3b39b71",
   "metadata": {},
   "outputs": [],
   "source": []
  }
 ],
 "metadata": {
  "kernelspec": {
   "display_name": "Python 3 (ipykernel)",
   "language": "python",
   "name": "python3"
  },
  "language_info": {
   "codemirror_mode": {
    "name": "ipython",
    "version": 3
   },
   "file_extension": ".py",
   "mimetype": "text/x-python",
   "name": "python",
   "nbconvert_exporter": "python",
   "pygments_lexer": "ipython3",
   "version": "3.9.7"
  }
 },
 "nbformat": 4,
 "nbformat_minor": 5
}
