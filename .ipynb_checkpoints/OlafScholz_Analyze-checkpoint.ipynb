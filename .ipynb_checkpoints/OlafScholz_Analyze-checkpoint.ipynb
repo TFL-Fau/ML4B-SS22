{
 "cells": [
  {
   "cell_type": "code",
   "execution_count": 102,
   "id": "cfad9afd",
   "metadata": {},
   "outputs": [
    {
     "ename": "NameError",
     "evalue": "name 'DATASET_ENCODING' is not defined",
     "output_type": "error",
     "traceback": [
      "\u001b[0;31m---------------------------------------------------------------------------\u001b[0m",
      "\u001b[0;31mNameError\u001b[0m                                 Traceback (most recent call last)",
      "\u001b[0;32m/var/folders/yl/dt_q929j1hg64nfh_lmhldhw0000gn/T/ipykernel_2052/1510089866.py\u001b[0m in \u001b[0;36m<module>\u001b[0;34m\u001b[0m\n\u001b[1;32m      8\u001b[0m \u001b[0mfile\u001b[0m\u001b[0;34m=\u001b[0m\u001b[0;34m\"Olafscholz.jl\"\u001b[0m\u001b[0;34m\u001b[0m\u001b[0;34m\u001b[0m\u001b[0m\n\u001b[1;32m      9\u001b[0m \u001b[0;34m\u001b[0m\u001b[0m\n\u001b[0;32m---> 10\u001b[0;31m \u001b[0mdf\u001b[0m \u001b[0;34m=\u001b[0m \u001b[0mpd\u001b[0m\u001b[0;34m.\u001b[0m\u001b[0mread_csv\u001b[0m\u001b[0;34m(\u001b[0m\u001b[0;34m'Project_Data.csv'\u001b[0m\u001b[0;34m,\u001b[0m \u001b[0mencoding\u001b[0m\u001b[0;34m=\u001b[0m\u001b[0mDATASET_ENCODING\u001b[0m\u001b[0;34m,\u001b[0m \u001b[0mnames\u001b[0m\u001b[0;34m=\u001b[0m\u001b[0mDATASET_COLUMNS\u001b[0m\u001b[0;34m)\u001b[0m\u001b[0;34m\u001b[0m\u001b[0;34m\u001b[0m\u001b[0m\n\u001b[0m\u001b[1;32m     11\u001b[0m \u001b[0mdf\u001b[0m\u001b[0;34m.\u001b[0m\u001b[0msample\u001b[0m\u001b[0;34m(\u001b[0m\u001b[0;36m5\u001b[0m\u001b[0;34m)\u001b[0m\u001b[0;34m\u001b[0m\u001b[0;34m\u001b[0m\u001b[0m\n\u001b[1;32m     12\u001b[0m \u001b[0;32mwith\u001b[0m \u001b[0mjsonlines\u001b[0m\u001b[0;34m.\u001b[0m\u001b[0mopen\u001b[0m\u001b[0;34m(\u001b[0m\u001b[0mfile\u001b[0m\u001b[0;34m)\u001b[0m \u001b[0;32mas\u001b[0m \u001b[0mj\u001b[0m\u001b[0;34m:\u001b[0m\u001b[0;34m\u001b[0m\u001b[0;34m\u001b[0m\u001b[0m\n",
      "\u001b[0;31mNameError\u001b[0m: name 'DATASET_ENCODING' is not defined"
     ]
    }
   ],
   "source": [
    "import jsonlines\n",
    "import pandas as pd\n",
    "from pprint import pprint\n",
    "import random\n",
    "\n",
    "#First Analysis of data from Olaf Scholz to get into the data\n",
    "\n",
    "file=\"Olafscholz.jl\"\n",
    "\n",
    "with jsonlines.open(file) as j:\n",
    "    for line in j:\n",
    "        #print(type(line))\n",
    "        #print(line.keys())\n",
    "        print(\"-\"*100)\n",
    "        \n",
    "        #pprint(line) #Jede Zeile ist ein dictionary\n",
    "        \n",
    "        pprint(type(line['response']))\n",
    "        print(line['response'].keys())\n",
    "        data=line['response']['data']\n",
    "        print(\"number if tweets:\", len(data))\n",
    "        pprint(data[0])\n",
    "        \n",
    "        break\n",
    "        #print(\"-\"*100)\n",
    "        #pprint(line['account_data'])\n",
    "        #print(\"-\"*100)\n",
    "        #pprint(line['params'])\n",
    "        #print(line.keys())\n",
    "        #print(\"Account Name:\", line['account_name'])\n",
    "        #print(\"-\"*100)\n",
    "        #print(\"Account_Data\", line['account_data'])\n",
    "        #print(\"-\"*100)\n",
    "        #type(line['response'])\n",
    "        #print(\"-\"*100)\n",
    "        #for i in line:\n",
    "        \n",
    "            #print(\"Response\", line['response'])\n",
    "           # print(\"-\"*100)\n",
    "            #break\n",
    "        #break\n",
    "        #print(\"Account_Data\", line['response'])\n",
    "        #print(\"Parameter\", line['params'])\n",
    "        #pprint(line['params'])\n",
    "        #print(\"-\"*100)\n",
    "        \n",
    "        #print(\"-\"*100)\n",
    "        #print(type(line['response']['data']))\n",
    "        #print(\"-\"*100)\n",
    "        #print(line['response'].keys())\n",
    "        #print(\"-\"*100)\n",
    "\n"
   ]
  },
  {
   "cell_type": "raw",
   "id": "0eda5fdd",
   "metadata": {},
   "source": []
  },
  {
   "cell_type": "code",
   "execution_count": 57,
   "id": "a7dc3ddd",
   "metadata": {},
   "outputs": [
    {
     "name": "stdout",
     "output_type": "stream",
     "text": [
      "2021-02-28\n",
      "Für die Bürgerinnen und Bürger muss erkennbar sein, wie wir das gemeinsam machen. Es geht darum, dass sich auch die Hoffnung verbreitet, dass es besser wird und dass wir Stück für Stück öffnen können. Und darum ist mir ganz wichtig zu sagen: wir haben eine Perspektive. #MPK\n"
     ]
    }
   ],
   "source": [
    "texts = []\n",
    "dates = []\n",
    "\n",
    "with jsonlines.open(file) as j: \n",
    "    for line in j:\n",
    "        line['response']['data'] \n",
    "        #print(line['response'].keys())\n",
    "        data=line['response']['data']\n",
    "        for i in range(0, 100):\n",
    "            date= data[i]['created_at']\n",
    "            text= data[i]['text'] \n",
    "            dates.append(date[:10])\n",
    "            texts.append(text)\n",
    "            break\n",
    "\n",
    "\n",
    "randomnumber = random.randint(0, 64)\n",
    "\n",
    "print(dates[randomnumber])\n",
    "print(texts[randomnumber])"
   ]
  },
  {
   "cell_type": "markdown",
   "id": "f16d6a17",
   "metadata": {},
   "source": [
    "dates = []\n",
    "with jsonlines.open(file) as j:\n",
    "    for line in j:\n",
    "        data= line['response']['data']\n",
    "        text= data[]['created_at'] \n",
    "        print(type(text))\n",
    "        \n",
    "        print(text[:10])\n",
    "        break"
   ]
  },
  {
   "cell_type": "code",
   "execution_count": 255,
   "id": "c654500e",
   "metadata": {},
   "outputs": [
    {
     "name": "stdout",
     "output_type": "stream",
     "text": [
      "2021-05-27\n",
      "RT @spdde: Wir kriegen ein #Lieferkettengesetz 🎉\n",
      "\n",
      "Die Rechte der Menschen, die den hier konsumierten Kaffee produzieren oder die unsere Hos…\n"
     ]
    }
   ],
   "source": [
    " with jsonlines.open(file) as j: \n",
    "        for line in j:\n",
    "            data=line['response']['data']\n",
    "            for i in range(0, 100):\n",
    "                date= data[i]['created_at']\n",
    "                text= data[i]['text'] \n",
    "                dates.append(date[:10])\n",
    "                texts.append(text)\n",
    "                break\n",
    "\n",
    "\n",
    "randomnumber = random.randint(0, 64)\n",
    "print(dates[randomnumber])\n",
    "print(texts[randomnumber]) "
   ]
  }
 ],
 "metadata": {
  "kernelspec": {
   "display_name": "Python 3 (ipykernel)",
   "language": "python",
   "name": "python3"
  },
  "language_info": {
   "codemirror_mode": {
    "name": "ipython",
    "version": 3
   },
   "file_extension": ".py",
   "mimetype": "text/x-python",
   "name": "python",
   "nbconvert_exporter": "python",
   "pygments_lexer": "ipython3",
   "version": "3.9.7"
  }
 },
 "nbformat": 4,
 "nbformat_minor": 5
}
